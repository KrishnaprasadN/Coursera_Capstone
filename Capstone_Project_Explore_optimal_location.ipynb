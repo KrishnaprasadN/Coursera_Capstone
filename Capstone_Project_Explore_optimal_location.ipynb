{
  "nbformat": 4,
  "nbformat_minor": 0,
  "metadata": {
    "colab": {
      "name": "Capstone Project - Explore optimal location.ipynb",
      "provenance": [],
      "collapsed_sections": []
    },
    "kernelspec": {
      "name": "python3",
      "display_name": "Python 3"
    }
  },
  "cells": [
    {
      "cell_type": "markdown",
      "metadata": {
        "id": "tcb9hS6_wSGk",
        "colab_type": "text"
      },
      "source": [
        "# __Capstone Project - Explore the optimal location for a restaurant  in Mangalore__"
      ]
    },
    {
      "cell_type": "markdown",
      "metadata": {
        "id": "dBwdm4kD2Qus",
        "colab_type": "text"
      },
      "source": [
        "Table of contents\n",
        "1. Introduction: Business Problem\n",
        "2. Data\n",
        "3. Methodology\n",
        "4. Analysis\n",
        "5. Results and Discussion\n",
        "6. Conclusion"
      ]
    },
    {
      "cell_type": "markdown",
      "metadata": {
        "id": "HRmEAOG_2u4w",
        "colab_type": "text"
      },
      "source": [
        "## 1. Introduction: Business Problem"
      ]
    },
    {
      "cell_type": "markdown",
      "metadata": {
        "id": "6A-D3AHx2toJ",
        "colab_type": "text"
      },
      "source": [
        "### 1.1 Background\n",
        "Mangalore, officially known as Mangaluru, is the chief port city of the Indian state of Karnataka. Mangalore is the state's only city to have all four modes of transport—air, road, rail and sea. The population of the urban agglomeration is nearly a million.\n",
        "\n",
        "Mangalore is also the administrative headquarters of the Dakshina Kannada district. This city's International Airport is the second-largest airport in Karnataka state. Mangalore is a __commercial, industrial, educational, healthcare and startup hub.__ Day by day the population of the city is increasing and there are more visitors to the city. This leads to a good business opportunity. There is ample scope for opening restaurants.\n"
      ]
    },
    {
      "cell_type": "markdown",
      "metadata": {
        "id": "EFNC9H4M2tQg",
        "colab_type": "text"
      },
      "source": [
        "### 1.2 Business Problem\n",
        "In this project we will try to find a good location for a restaurant in Mangalore city.  There are many restaurants in the city. But, we would like to identify a crowded location where there is no restaurant or just one.\n",
        "\n",
        "Identifying the __optimal location for opening a new restaurant is the business problem of this project.__ \n",
        "\n",
        "Restaurants around __colleges, healthcare, factories, government buildings and schools__ normally do good business. Such locations are normally crowded. Project should propose an optimal location, that  should be __within the 200meters (walkable distance)__ from the main spot such as college/hospital etc."
      ]
    },
    {
      "cell_type": "markdown",
      "metadata": {
        "id": "EFn9oz_c3D9A",
        "colab_type": "text"
      },
      "source": [
        "## 2. Data"
      ]
    },
    {
      "cell_type": "markdown",
      "metadata": {
        "id": "uQiH-g843Dt2",
        "colab_type": "text"
      },
      "source": [
        "### 1.1 Data requirement\n",
        "Based on our business problem, we need following data:\n",
        "1. Identify top 5 locations for Colleges, Hospitals, Government buildings, Factories and Schools in Mangalore. \n",
        "2. For each such location, identify the existing restaurants within 200meter radius.\n",
        "3. Analyze the obtained data to identify the optimal location\n"
      ]
    },
    {
      "cell_type": "markdown",
      "metadata": {
        "id": "1Xsd8imU3DjP",
        "colab_type": "text"
      },
      "source": [
        "### 1.2 Data source\n",
        "Following data sources will be needed to get the required information:\n",
        "1. Coordinates of Mangalore city center is obtained from Google Maps\n",
        "2. Foursquare API is used to get the top 5 locations for Colleges, Hospitals, Government buildings, Factories and Scholls. Also to get the nearby restaurants for each such location.\n",
        "3. To get the latitude and longitude based on the address, we use Geopy Nominatim\n"
      ]
    },
    {
      "cell_type": "code",
      "metadata": {
        "id": "V-ArLtVZub3n",
        "colab_type": "code",
        "outputId": "a3831f63-db66-4ea2-df32-e9cc2d301f29",
        "colab": {
          "base_uri": "https://localhost:8080/",
          "height": 275
        }
      },
      "source": [
        "import numpy as np # library to handle data in a vectorized manner\n",
        "import pandas as pd\n",
        "import requests\n",
        "import math\n",
        "\n",
        "# Matplotlib and associated plotting modules\n",
        "import matplotlib.cm as cm\n",
        "import matplotlib.colors as colors\n",
        "\n",
        "!pip install geopy\n",
        "from geopy.geocoders import Nominatim \n",
        "\n",
        "# tranform JSON file into a pandas dataframe\n",
        "from pandas.io.json import json_normalize \n",
        "\n",
        "# import k-means from clustering stage\n",
        "from sklearn.cluster import KMeans\n",
        "\n",
        "!pip install folium\n",
        "import folium # map rendering library\n",
        "\n",
        "print('Libraries imported.')"
      ],
      "execution_count": 0,
      "outputs": [
        {
          "output_type": "stream",
          "text": [
            "Requirement already satisfied: geopy in /usr/local/lib/python3.6/dist-packages (1.17.0)\n",
            "Requirement already satisfied: geographiclib<2,>=1.49 in /usr/local/lib/python3.6/dist-packages (from geopy) (1.50)\n",
            "Requirement already satisfied: folium in /usr/local/lib/python3.6/dist-packages (0.8.3)\n",
            "Requirement already satisfied: requests in /usr/local/lib/python3.6/dist-packages (from folium) (2.23.0)\n",
            "Requirement already satisfied: six in /usr/local/lib/python3.6/dist-packages (from folium) (1.12.0)\n",
            "Requirement already satisfied: jinja2 in /usr/local/lib/python3.6/dist-packages (from folium) (2.11.2)\n",
            "Requirement already satisfied: numpy in /usr/local/lib/python3.6/dist-packages (from folium) (1.18.4)\n",
            "Requirement already satisfied: branca>=0.3.0 in /usr/local/lib/python3.6/dist-packages (from folium) (0.4.0)\n",
            "Requirement already satisfied: chardet<4,>=3.0.2 in /usr/local/lib/python3.6/dist-packages (from requests->folium) (3.0.4)\n",
            "Requirement already satisfied: urllib3!=1.25.0,!=1.25.1,<1.26,>=1.21.1 in /usr/local/lib/python3.6/dist-packages (from requests->folium) (1.24.3)\n",
            "Requirement already satisfied: certifi>=2017.4.17 in /usr/local/lib/python3.6/dist-packages (from requests->folium) (2020.4.5.1)\n",
            "Requirement already satisfied: idna<3,>=2.5 in /usr/local/lib/python3.6/dist-packages (from requests->folium) (2.9)\n",
            "Requirement already satisfied: MarkupSafe>=0.23 in /usr/local/lib/python3.6/dist-packages (from jinja2->folium) (1.1.1)\n",
            "Libraries imported.\n"
          ],
          "name": "stdout"
        }
      ]
    },
    {
      "cell_type": "markdown",
      "metadata": {
        "id": "3zR8Hkcoxt1Z",
        "colab_type": "text"
      },
      "source": [
        "Lets get the latitude and longitude of Mangalore city usi geopy library."
      ]
    },
    {
      "cell_type": "code",
      "metadata": {
        "id": "81i_NyUOwhpn",
        "colab_type": "code",
        "outputId": "3363199c-2ff2-4f40-8263-8089ae6ab347",
        "colab": {
          "base_uri": "https://localhost:8080/",
          "height": 34
        }
      },
      "source": [
        "# get the address of Mangalore city\n",
        "address = 'Mangalore, Karnataka, India'\n",
        "\n",
        "# get geolocator\n",
        "geolocator = Nominatim(user_agent=\"ny_explorer\")\n",
        "\n",
        "# get location from address\n",
        "location = geolocator.geocode(address)\n",
        "latitude = location.latitude\n",
        "longitude = location.longitude\n",
        "\n",
        "print('The geograpical coordinate of Mangalore City are {}, {}.'.format(latitude, longitude))"
      ],
      "execution_count": 0,
      "outputs": [
        {
          "output_type": "stream",
          "text": [
            "The geograpical coordinate of Mangalore City are 12.8698101, 74.8430082.\n"
          ],
          "name": "stdout"
        }
      ]
    },
    {
      "cell_type": "markdown",
      "metadata": {
        "id": "v6hb_d-z2AeD",
        "colab_type": "text"
      },
      "source": [
        "Foursquare API is the main API source with which we get all the top locations for various categories and then the nearby restaurants for each such location. We use venues/search API for category specific search based on latitude and longitude. We get the category id for 5 categories and the Food category from Foursquare API documentation."
      ]
    },
    {
      "cell_type": "code",
      "metadata": {
        "id": "0_ivPUEY1TAv",
        "colab_type": "code",
        "cellView": "form",
        "colab": {}
      },
      "source": [
        "#@title Foursquare details\n",
        "CLIENT_ID = 'TWECZIHLL3ZZYQ1R5FQWRP0FAFOVJJ2AJHLJJRITXA4EI5H5' # your Foursquare ID\n",
        "CLIENT_SECRET = 'ZBMPN2T42QB45M0QKMVCHSZPG2IUTYGJ5HLUH0VMBMCRFVYS' # your Foursquare Secret\n",
        "VERSION = '20180605' # Foursquare API version"
      ],
      "execution_count": 0,
      "outputs": []
    },
    {
      "cell_type": "markdown",
      "metadata": {
        "id": "aoBj1Eur229V",
        "colab_type": "text"
      },
      "source": [
        "Now, define a function to get the top 100 venues that are in Mangalore within a radius of 5000 meters based on category id.\n",
        "\n",
        "let's use Foursquare API to get info on restaurants in each category locations.\n",
        "\n",
        "We're interested in venues in 'food' category, for each category location."
      ]
    },
    {
      "cell_type": "code",
      "metadata": {
        "id": "DflW5Q0BINqe",
        "colab_type": "code",
        "colab": {}
      },
      "source": [
        "radius = 5000\n",
        "LIMIT = 100\n",
        "\n",
        "def get_Url(categoryId):\n",
        "    return 'https://api.foursquare.com/v2/venues/search?client_id={}&client_secret={}&ll={},{}&v={}&radius={}&limit={}&categoryId={}'.format(CLIENT_ID, CLIENT_SECRET, latitude, longitude, VERSION, radius, LIMIT, categoryId)"
      ],
      "execution_count": 0,
      "outputs": []
    },
    {
      "cell_type": "markdown",
      "metadata": {
        "id": "qwNY0wvJJCC3",
        "colab_type": "text"
      },
      "source": [
        "Define utility functions to extract the venues for a category"
      ]
    },
    {
      "cell_type": "code",
      "metadata": {
        "id": "Bz1AEa5VIooQ",
        "colab_type": "code",
        "colab": {}
      },
      "source": [
        "def get_nearby_venues(results):\n",
        "    # clean the data\n",
        "    venues = results['response']['venues']\n",
        "\n",
        "    nearby_venues = json_normalize(venues) # flatten JSON\n",
        "\n",
        "    if nearby_venues.shape[0] > 0:\n",
        "        # filter columns\n",
        "        filtered_columns = ['name', 'categories', 'location.lat', 'location.lng']\n",
        "        nearby_venues = nearby_venues.loc[:, filtered_columns]\n",
        "\n",
        "        # filter the category for each row\n",
        "        nearby_venues['categories'] = nearby_venues.apply(get_category_type, axis=1)\n",
        "\n",
        "        # clean columns\n",
        "        nearby_venues.columns = [col.split(\".\")[-1] for col in nearby_venues.columns]\n",
        "\n",
        "    return nearby_venues"
      ],
      "execution_count": 0,
      "outputs": []
    },
    {
      "cell_type": "code",
      "metadata": {
        "id": "60i-QsO73ak_",
        "colab_type": "code",
        "colab": {}
      },
      "source": [
        "# function that extracts the category of the venue\n",
        "def get_category_type(row):\n",
        "    try:\n",
        "        categories_list = row['categories']\n",
        "    except:\n",
        "        categories_list = row['venue.categories']\n",
        "        \n",
        "    if len(categories_list) == 0:\n",
        "        return None\n",
        "    else:\n",
        "        return categories_list[0]['name']"
      ],
      "execution_count": 0,
      "outputs": []
    },
    {
      "cell_type": "code",
      "metadata": {
        "id": "XTsQvrk5A85U",
        "colab_type": "code",
        "colab": {}
      },
      "source": [
        "# get the nearby venues based on the category id in Mangalore within 5KM radius\n",
        "def get_nearby_venues_for_category(categoryId):\n",
        "    # first get the url\n",
        "    url = get_Url(categoryId)\n",
        "\n",
        "    # get the json response from url\n",
        "    results = requests.get(url).json()\n",
        "\n",
        "    # return the venues for the provided category\n",
        "    return get_nearby_venues(results)\n"
      ],
      "execution_count": 0,
      "outputs": []
    },
    {
      "cell_type": "markdown",
      "metadata": {
        "id": "X72lE15g56tX",
        "colab_type": "text"
      },
      "source": [
        "Define the category id for categories - Food, Colleges, Factories, Hospitals, Government Buildings and Schools"
      ]
    },
    {
      "cell_type": "code",
      "metadata": {
        "id": "8hUsym8DDYF2",
        "colab_type": "code",
        "colab": {}
      },
      "source": [
        "# Foursquare category codes\n",
        "category_food = \"4d4b7105d754a06374d81259\"\n",
        "category_colleges = \"4d4b7105d754a06372d81259\"\n",
        "category_factories = \"4eb1bea83b7b6f98df247e06\"\n",
        "category_government_builiding = \"4bf58dd8d48988d126941735\"\n",
        "category_hospitals = \"4bf58dd8d48988d196941735\"\n",
        "category_schools = \"4bf58dd8d48988d13b941735\""
      ],
      "execution_count": 0,
      "outputs": []
    },
    {
      "cell_type": "markdown",
      "metadata": {
        "id": "mcvjiViI6Hed",
        "colab_type": "text"
      },
      "source": [
        "Lets first get the top 100 colleges within Mangalore city 5km radius. Also, clean the data to get top 5 colleges.\n",
        "\n",
        "Finally display the college list."
      ]
    },
    {
      "cell_type": "code",
      "metadata": {
        "id": "wndlqCEhGnHr",
        "colab_type": "code",
        "outputId": "49896406-8345-44ee-fe6f-6ced988b4c03",
        "colab": {
          "base_uri": "https://localhost:8080/",
          "height": 258
        }
      },
      "source": [
        "# get the colleges list\n",
        "colleges = get_nearby_venues_for_category(category_colleges)\n",
        "\n",
        "# clean the college data based on the category - College Academic Building\n",
        "colleges = colleges[colleges['categories'] == 'College Academic Building'].reset_index(drop=True)\n",
        "\n",
        "# reset the category name\n",
        "colleges = colleges.assign(categories='College')\n",
        "\n",
        "# get the top 5 colleges\n",
        "colleges = colleges[0:5]\n",
        "\n",
        "colleges"
      ],
      "execution_count": 0,
      "outputs": [
        {
          "output_type": "stream",
          "text": [
            "/usr/local/lib/python3.6/dist-packages/ipykernel_launcher.py:5: FutureWarning: pandas.io.json.json_normalize is deprecated, use pandas.json_normalize instead\n",
            "  \"\"\"\n"
          ],
          "name": "stderr"
        },
        {
          "output_type": "execute_result",
          "data": {
            "text/html": [
              "<div>\n",
              "<style scoped>\n",
              "    .dataframe tbody tr th:only-of-type {\n",
              "        vertical-align: middle;\n",
              "    }\n",
              "\n",
              "    .dataframe tbody tr th {\n",
              "        vertical-align: top;\n",
              "    }\n",
              "\n",
              "    .dataframe thead th {\n",
              "        text-align: right;\n",
              "    }\n",
              "</style>\n",
              "<table border=\"1\" class=\"dataframe\">\n",
              "  <thead>\n",
              "    <tr style=\"text-align: right;\">\n",
              "      <th></th>\n",
              "      <th>name</th>\n",
              "      <th>categories</th>\n",
              "      <th>lat</th>\n",
              "      <th>lng</th>\n",
              "    </tr>\n",
              "  </thead>\n",
              "  <tbody>\n",
              "    <tr>\n",
              "      <th>0</th>\n",
              "      <td>St Aloysius PU College</td>\n",
              "      <td>College</td>\n",
              "      <td>12.873166</td>\n",
              "      <td>74.844708</td>\n",
              "    </tr>\n",
              "    <tr>\n",
              "      <th>1</th>\n",
              "      <td>Mahesh P.U. College</td>\n",
              "      <td>College</td>\n",
              "      <td>12.913561</td>\n",
              "      <td>74.835975</td>\n",
              "    </tr>\n",
              "    <tr>\n",
              "      <th>2</th>\n",
              "      <td>SDM Law College, Mangalore</td>\n",
              "      <td>College</td>\n",
              "      <td>12.878730</td>\n",
              "      <td>74.841349</td>\n",
              "    </tr>\n",
              "    <tr>\n",
              "      <th>3</th>\n",
              "      <td>Canara College</td>\n",
              "      <td>College</td>\n",
              "      <td>12.879053</td>\n",
              "      <td>74.842549</td>\n",
              "    </tr>\n",
              "    <tr>\n",
              "      <th>4</th>\n",
              "      <td>University College Mangalore</td>\n",
              "      <td>College</td>\n",
              "      <td>12.865785</td>\n",
              "      <td>74.840139</td>\n",
              "    </tr>\n",
              "  </tbody>\n",
              "</table>\n",
              "</div>"
            ],
            "text/plain": [
              "                           name categories        lat        lng\n",
              "0        St Aloysius PU College    College  12.873166  74.844708\n",
              "1           Mahesh P.U. College    College  12.913561  74.835975\n",
              "2    SDM Law College, Mangalore    College  12.878730  74.841349\n",
              "3                Canara College    College  12.879053  74.842549\n",
              "4  University College Mangalore    College  12.865785  74.840139"
            ]
          },
          "metadata": {
            "tags": []
          },
          "execution_count": 14
        }
      ]
    },
    {
      "cell_type": "markdown",
      "metadata": {
        "id": "ksuvyLuk6d4c",
        "colab_type": "text"
      },
      "source": [
        "Lets get the top 100 factories within Mangalore city 5km radius. Also, clean the data to get top 5 factories.\n",
        "\n",
        "Finally display the location list."
      ]
    },
    {
      "cell_type": "code",
      "metadata": {
        "id": "iQF0AGYnDjLt",
        "colab_type": "code",
        "outputId": "d02bb85a-4f7c-45f0-e40b-bcdf89d61e57",
        "colab": {
          "base_uri": "https://localhost:8080/",
          "height": 258
        }
      },
      "source": [
        "# get the factories list\n",
        "factories = get_nearby_venues_for_category(category_factories)\n",
        "\n",
        "# sort based on lat, lng, which will give us the factories which are near to the mangalore center point\n",
        "factories.sort_values(['lat', 'lng'], ascending=[True, True]).reset_index(drop=True)\n",
        "\n",
        "# get the top 5 factories\n",
        "factories = factories[0:5]\n",
        "\n",
        "factories"
      ],
      "execution_count": 0,
      "outputs": [
        {
          "output_type": "stream",
          "text": [
            "/usr/local/lib/python3.6/dist-packages/ipykernel_launcher.py:5: FutureWarning: pandas.io.json.json_normalize is deprecated, use pandas.json_normalize instead\n",
            "  \"\"\"\n"
          ],
          "name": "stderr"
        },
        {
          "output_type": "execute_result",
          "data": {
            "text/html": [
              "<div>\n",
              "<style scoped>\n",
              "    .dataframe tbody tr th:only-of-type {\n",
              "        vertical-align: middle;\n",
              "    }\n",
              "\n",
              "    .dataframe tbody tr th {\n",
              "        vertical-align: top;\n",
              "    }\n",
              "\n",
              "    .dataframe thead th {\n",
              "        text-align: right;\n",
              "    }\n",
              "</style>\n",
              "<table border=\"1\" class=\"dataframe\">\n",
              "  <thead>\n",
              "    <tr style=\"text-align: right;\">\n",
              "      <th></th>\n",
              "      <th>name</th>\n",
              "      <th>categories</th>\n",
              "      <th>lat</th>\n",
              "      <th>lng</th>\n",
              "    </tr>\n",
              "  </thead>\n",
              "  <tbody>\n",
              "    <tr>\n",
              "      <th>0</th>\n",
              "      <td>shakthi creations</td>\n",
              "      <td>Factory</td>\n",
              "      <td>12.869485</td>\n",
              "      <td>74.838037</td>\n",
              "    </tr>\n",
              "    <tr>\n",
              "      <th>1</th>\n",
              "      <td>Rudra Industries</td>\n",
              "      <td>Factory</td>\n",
              "      <td>12.877755</td>\n",
              "      <td>74.846977</td>\n",
              "    </tr>\n",
              "    <tr>\n",
              "      <th>2</th>\n",
              "      <td>Sarasija Foods (NARAN'S)</td>\n",
              "      <td>Factory</td>\n",
              "      <td>12.896301</td>\n",
              "      <td>74.861040</td>\n",
              "    </tr>\n",
              "    <tr>\n",
              "      <th>3</th>\n",
              "      <td>Sovereign Tile Works</td>\n",
              "      <td>Factory</td>\n",
              "      <td>12.880381</td>\n",
              "      <td>74.827174</td>\n",
              "    </tr>\n",
              "    <tr>\n",
              "      <th>4</th>\n",
              "      <td>Sarkar laminates</td>\n",
              "      <td>Factory</td>\n",
              "      <td>12.822981</td>\n",
              "      <td>74.859305</td>\n",
              "    </tr>\n",
              "  </tbody>\n",
              "</table>\n",
              "</div>"
            ],
            "text/plain": [
              "                       name categories        lat        lng\n",
              "0         shakthi creations    Factory  12.869485  74.838037\n",
              "1          Rudra Industries    Factory  12.877755  74.846977\n",
              "2  Sarasija Foods (NARAN'S)    Factory  12.896301  74.861040\n",
              "3      Sovereign Tile Works    Factory  12.880381  74.827174\n",
              "4          Sarkar laminates    Factory  12.822981  74.859305"
            ]
          },
          "metadata": {
            "tags": []
          },
          "execution_count": 15
        }
      ]
    },
    {
      "cell_type": "markdown",
      "metadata": {
        "id": "8ssCqgWC6pkE",
        "colab_type": "text"
      },
      "source": [
        "Lets get the top 100 government building locations within Mangalore city 5km radius. Also, clean the data to get top 5 locations.\n",
        "\n",
        "Finally display the government building location list."
      ]
    },
    {
      "cell_type": "code",
      "metadata": {
        "id": "9EGPTKtBDnGj",
        "colab_type": "code",
        "outputId": "50c62c3c-106d-4830-bdbb-c4ed4a3a85ae",
        "colab": {
          "base_uri": "https://localhost:8080/",
          "height": 258
        }
      },
      "source": [
        "# get the goverment buildings list\n",
        "government_buildings = get_nearby_venues_for_category(category_government_builiding)\n",
        "\n",
        "# based on category Government Building filter the data\n",
        "government_buildings = government_buildings[government_buildings['categories'] == 'Government Building'].reset_index(drop=True)\n",
        "\n",
        "# get the top 5 entries\n",
        "government_buildings = government_buildings[0:5]\n",
        "\n",
        "government_buildings"
      ],
      "execution_count": 0,
      "outputs": [
        {
          "output_type": "stream",
          "text": [
            "/usr/local/lib/python3.6/dist-packages/ipykernel_launcher.py:5: FutureWarning: pandas.io.json.json_normalize is deprecated, use pandas.json_normalize instead\n",
            "  \"\"\"\n"
          ],
          "name": "stderr"
        },
        {
          "output_type": "execute_result",
          "data": {
            "text/html": [
              "<div>\n",
              "<style scoped>\n",
              "    .dataframe tbody tr th:only-of-type {\n",
              "        vertical-align: middle;\n",
              "    }\n",
              "\n",
              "    .dataframe tbody tr th {\n",
              "        vertical-align: top;\n",
              "    }\n",
              "\n",
              "    .dataframe thead th {\n",
              "        text-align: right;\n",
              "    }\n",
              "</style>\n",
              "<table border=\"1\" class=\"dataframe\">\n",
              "  <thead>\n",
              "    <tr style=\"text-align: right;\">\n",
              "      <th></th>\n",
              "      <th>name</th>\n",
              "      <th>categories</th>\n",
              "      <th>lat</th>\n",
              "      <th>lng</th>\n",
              "    </tr>\n",
              "  </thead>\n",
              "  <tbody>\n",
              "    <tr>\n",
              "      <th>0</th>\n",
              "      <td>Mangalore One</td>\n",
              "      <td>Government Building</td>\n",
              "      <td>12.871469</td>\n",
              "      <td>74.845673</td>\n",
              "    </tr>\n",
              "    <tr>\n",
              "      <th>1</th>\n",
              "      <td>Petroleum And Explosives Safety Organisation</td>\n",
              "      <td>Government Building</td>\n",
              "      <td>12.870521</td>\n",
              "      <td>74.845460</td>\n",
              "    </tr>\n",
              "    <tr>\n",
              "      <th>2</th>\n",
              "      <td>RTO</td>\n",
              "      <td>Government Building</td>\n",
              "      <td>12.861331</td>\n",
              "      <td>74.839396</td>\n",
              "    </tr>\n",
              "    <tr>\n",
              "      <th>3</th>\n",
              "      <td>Mangalore City Corporation</td>\n",
              "      <td>Government Building</td>\n",
              "      <td>12.884741</td>\n",
              "      <td>74.839219</td>\n",
              "    </tr>\n",
              "    <tr>\n",
              "      <th>4</th>\n",
              "      <td>D C Office</td>\n",
              "      <td>Government Building</td>\n",
              "      <td>12.861403</td>\n",
              "      <td>74.836295</td>\n",
              "    </tr>\n",
              "  </tbody>\n",
              "</table>\n",
              "</div>"
            ],
            "text/plain": [
              "                                           name  ...        lng\n",
              "0                                 Mangalore One  ...  74.845673\n",
              "1  Petroleum And Explosives Safety Organisation  ...  74.845460\n",
              "2                                           RTO  ...  74.839396\n",
              "3                    Mangalore City Corporation  ...  74.839219\n",
              "4                                    D C Office  ...  74.836295\n",
              "\n",
              "[5 rows x 4 columns]"
            ]
          },
          "metadata": {
            "tags": []
          },
          "execution_count": 16
        }
      ]
    },
    {
      "cell_type": "markdown",
      "metadata": {
        "id": "5XqVZwqQ6vSE",
        "colab_type": "text"
      },
      "source": [
        "Lets get the top 100 hospital locations within Mangalore city 5km radius. Also, clean the data to get top 5 hospitals\n",
        "\n",
        "Finally display the hospital list"
      ]
    },
    {
      "cell_type": "code",
      "metadata": {
        "id": "MCm6ChQ-Dr6j",
        "colab_type": "code",
        "outputId": "e6910e9d-5dae-4bf4-a149-0b729a080ebf",
        "colab": {
          "base_uri": "https://localhost:8080/",
          "height": 258
        }
      },
      "source": [
        "# get the hospitals list\n",
        "hospitals = get_nearby_venues_for_category(category_hospitals)\n",
        "\n",
        "hospitals = hospitals[hospitals['categories'] == 'Hospital'].reset_index(drop=True)\n",
        "\n",
        "hospitals.sort_values(['lat', 'lng'], ascending=[True, True]).reset_index(drop=True)\n",
        "\n",
        "# drop row 3, 5 as the entries are already present for the same hospital\n",
        "hospitals.drop(hospitals.index[[3, 5]], inplace=True)\n",
        "\n",
        "# get the top 5 hospitals\n",
        "hospitals = hospitals[0:5]\n",
        "\n",
        "hospitals"
      ],
      "execution_count": 0,
      "outputs": [
        {
          "output_type": "stream",
          "text": [
            "/usr/local/lib/python3.6/dist-packages/ipykernel_launcher.py:5: FutureWarning: pandas.io.json.json_normalize is deprecated, use pandas.json_normalize instead\n",
            "  \"\"\"\n"
          ],
          "name": "stderr"
        },
        {
          "output_type": "execute_result",
          "data": {
            "text/html": [
              "<div>\n",
              "<style scoped>\n",
              "    .dataframe tbody tr th:only-of-type {\n",
              "        vertical-align: middle;\n",
              "    }\n",
              "\n",
              "    .dataframe tbody tr th {\n",
              "        vertical-align: top;\n",
              "    }\n",
              "\n",
              "    .dataframe thead th {\n",
              "        text-align: right;\n",
              "    }\n",
              "</style>\n",
              "<table border=\"1\" class=\"dataframe\">\n",
              "  <thead>\n",
              "    <tr style=\"text-align: right;\">\n",
              "      <th></th>\n",
              "      <th>name</th>\n",
              "      <th>categories</th>\n",
              "      <th>lat</th>\n",
              "      <th>lng</th>\n",
              "    </tr>\n",
              "  </thead>\n",
              "  <tbody>\n",
              "    <tr>\n",
              "      <th>0</th>\n",
              "      <td>Tara Hospital</td>\n",
              "      <td>Hospital</td>\n",
              "      <td>12.869495</td>\n",
              "      <td>74.840137</td>\n",
              "    </tr>\n",
              "    <tr>\n",
              "      <th>1</th>\n",
              "      <td>Wenlock Government Hospital</td>\n",
              "      <td>Hospital</td>\n",
              "      <td>12.867602</td>\n",
              "      <td>74.843103</td>\n",
              "    </tr>\n",
              "    <tr>\n",
              "      <th>2</th>\n",
              "      <td>Yenepoya Hospital</td>\n",
              "      <td>Hospital</td>\n",
              "      <td>12.870697</td>\n",
              "      <td>74.846558</td>\n",
              "    </tr>\n",
              "    <tr>\n",
              "      <th>4</th>\n",
              "      <td>KMC Ambedkar Hospital</td>\n",
              "      <td>Hospital</td>\n",
              "      <td>12.872169</td>\n",
              "      <td>74.848706</td>\n",
              "    </tr>\n",
              "    <tr>\n",
              "      <th>6</th>\n",
              "      <td>KMC Hospital Life's On</td>\n",
              "      <td>Hospital</td>\n",
              "      <td>12.872002</td>\n",
              "      <td>74.848127</td>\n",
              "    </tr>\n",
              "  </tbody>\n",
              "</table>\n",
              "</div>"
            ],
            "text/plain": [
              "                          name categories        lat        lng\n",
              "0                Tara Hospital   Hospital  12.869495  74.840137\n",
              "1  Wenlock Government Hospital   Hospital  12.867602  74.843103\n",
              "2            Yenepoya Hospital   Hospital  12.870697  74.846558\n",
              "4        KMC Ambedkar Hospital   Hospital  12.872169  74.848706\n",
              "6       KMC Hospital Life's On   Hospital  12.872002  74.848127"
            ]
          },
          "metadata": {
            "tags": []
          },
          "execution_count": 17
        }
      ]
    },
    {
      "cell_type": "markdown",
      "metadata": {
        "id": "oMUwaFCx7PBZ",
        "colab_type": "text"
      },
      "source": [
        "Lets get the top 100 schoold locations within Mangalore city 5km radius. Also, clean the data to get top 5 locations\n",
        "\n",
        "Finally display the top 5 schools list"
      ]
    },
    {
      "cell_type": "code",
      "metadata": {
        "id": "iTRWf4luATKZ",
        "colab_type": "code",
        "outputId": "20e8dcf2-458f-4e07-9f99-854e94d974b8",
        "colab": {
          "base_uri": "https://localhost:8080/",
          "height": 258
        }
      },
      "source": [
        "# get the nearby schools\n",
        "schools = get_nearby_venues_for_category(category_schools)\n",
        "\n",
        "# filter the data based on category - High School\n",
        "schools = schools[schools['categories'] == 'High School'].reset_index(drop=True)\n",
        "\n",
        "# slice the top 5 entries\n",
        "schools = schools[0:5]\n",
        "\n",
        "schools"
      ],
      "execution_count": 0,
      "outputs": [
        {
          "output_type": "stream",
          "text": [
            "/usr/local/lib/python3.6/dist-packages/ipykernel_launcher.py:5: FutureWarning: pandas.io.json.json_normalize is deprecated, use pandas.json_normalize instead\n",
            "  \"\"\"\n"
          ],
          "name": "stderr"
        },
        {
          "output_type": "execute_result",
          "data": {
            "text/html": [
              "<div>\n",
              "<style scoped>\n",
              "    .dataframe tbody tr th:only-of-type {\n",
              "        vertical-align: middle;\n",
              "    }\n",
              "\n",
              "    .dataframe tbody tr th {\n",
              "        vertical-align: top;\n",
              "    }\n",
              "\n",
              "    .dataframe thead th {\n",
              "        text-align: right;\n",
              "    }\n",
              "</style>\n",
              "<table border=\"1\" class=\"dataframe\">\n",
              "  <thead>\n",
              "    <tr style=\"text-align: right;\">\n",
              "      <th></th>\n",
              "      <th>name</th>\n",
              "      <th>categories</th>\n",
              "      <th>lat</th>\n",
              "      <th>lng</th>\n",
              "    </tr>\n",
              "  </thead>\n",
              "  <tbody>\n",
              "    <tr>\n",
              "      <th>0</th>\n",
              "      <td>Nalanda School</td>\n",
              "      <td>High School</td>\n",
              "      <td>12.873374</td>\n",
              "      <td>74.840744</td>\n",
              "    </tr>\n",
              "    <tr>\n",
              "      <th>1</th>\n",
              "      <td>Milagres School</td>\n",
              "      <td>High School</td>\n",
              "      <td>12.867199</td>\n",
              "      <td>74.843828</td>\n",
              "    </tr>\n",
              "    <tr>\n",
              "      <th>2</th>\n",
              "      <td>Canara Girls High School</td>\n",
              "      <td>High School</td>\n",
              "      <td>12.877045</td>\n",
              "      <td>74.842680</td>\n",
              "    </tr>\n",
              "    <tr>\n",
              "      <th>3</th>\n",
              "      <td>Government High School</td>\n",
              "      <td>High School</td>\n",
              "      <td>12.870202</td>\n",
              "      <td>74.834983</td>\n",
              "    </tr>\n",
              "    <tr>\n",
              "      <th>4</th>\n",
              "      <td>St. Aloysius High School</td>\n",
              "      <td>High School</td>\n",
              "      <td>12.873727</td>\n",
              "      <td>74.845050</td>\n",
              "    </tr>\n",
              "  </tbody>\n",
              "</table>\n",
              "</div>"
            ],
            "text/plain": [
              "                       name   categories        lat        lng\n",
              "0            Nalanda School  High School  12.873374  74.840744\n",
              "1           Milagres School  High School  12.867199  74.843828\n",
              "2  Canara Girls High School  High School  12.877045  74.842680\n",
              "3    Government High School  High School  12.870202  74.834983\n",
              "4  St. Aloysius High School  High School  12.873727  74.845050"
            ]
          },
          "metadata": {
            "tags": []
          },
          "execution_count": 18
        }
      ]
    },
    {
      "cell_type": "markdown",
      "metadata": {
        "id": "mfnmDE5tRdQe",
        "colab_type": "text"
      },
      "source": [
        "Lets combine all the top 5 locations for various categories"
      ]
    },
    {
      "cell_type": "code",
      "metadata": {
        "id": "Dy3FR0lMWVEV",
        "colab_type": "code",
        "outputId": "444854b9-d0a6-4829-d655-302bb9c3475f",
        "colab": {
          "base_uri": "https://localhost:8080/",
          "height": 824
        }
      },
      "source": [
        "# lets first merge the top5 spots of all the categories\n",
        "top_spots = pd.concat([government_buildings, hospitals, colleges, schools, factories]).reset_index(drop=True)\n",
        "top_spots"
      ],
      "execution_count": 0,
      "outputs": [
        {
          "output_type": "execute_result",
          "data": {
            "text/html": [
              "<div>\n",
              "<style scoped>\n",
              "    .dataframe tbody tr th:only-of-type {\n",
              "        vertical-align: middle;\n",
              "    }\n",
              "\n",
              "    .dataframe tbody tr th {\n",
              "        vertical-align: top;\n",
              "    }\n",
              "\n",
              "    .dataframe thead th {\n",
              "        text-align: right;\n",
              "    }\n",
              "</style>\n",
              "<table border=\"1\" class=\"dataframe\">\n",
              "  <thead>\n",
              "    <tr style=\"text-align: right;\">\n",
              "      <th></th>\n",
              "      <th>name</th>\n",
              "      <th>categories</th>\n",
              "      <th>lat</th>\n",
              "      <th>lng</th>\n",
              "    </tr>\n",
              "  </thead>\n",
              "  <tbody>\n",
              "    <tr>\n",
              "      <th>0</th>\n",
              "      <td>Mangalore One</td>\n",
              "      <td>Government Building</td>\n",
              "      <td>12.871469</td>\n",
              "      <td>74.845673</td>\n",
              "    </tr>\n",
              "    <tr>\n",
              "      <th>1</th>\n",
              "      <td>Petroleum And Explosives Safety Organisation</td>\n",
              "      <td>Government Building</td>\n",
              "      <td>12.870521</td>\n",
              "      <td>74.845460</td>\n",
              "    </tr>\n",
              "    <tr>\n",
              "      <th>2</th>\n",
              "      <td>RTO</td>\n",
              "      <td>Government Building</td>\n",
              "      <td>12.861331</td>\n",
              "      <td>74.839396</td>\n",
              "    </tr>\n",
              "    <tr>\n",
              "      <th>3</th>\n",
              "      <td>Mangalore City Corporation</td>\n",
              "      <td>Government Building</td>\n",
              "      <td>12.884741</td>\n",
              "      <td>74.839219</td>\n",
              "    </tr>\n",
              "    <tr>\n",
              "      <th>4</th>\n",
              "      <td>D C Office</td>\n",
              "      <td>Government Building</td>\n",
              "      <td>12.861403</td>\n",
              "      <td>74.836295</td>\n",
              "    </tr>\n",
              "    <tr>\n",
              "      <th>5</th>\n",
              "      <td>Tara Hospital</td>\n",
              "      <td>Hospital</td>\n",
              "      <td>12.869495</td>\n",
              "      <td>74.840137</td>\n",
              "    </tr>\n",
              "    <tr>\n",
              "      <th>6</th>\n",
              "      <td>Wenlock Government Hospital</td>\n",
              "      <td>Hospital</td>\n",
              "      <td>12.867602</td>\n",
              "      <td>74.843103</td>\n",
              "    </tr>\n",
              "    <tr>\n",
              "      <th>7</th>\n",
              "      <td>Yenepoya Hospital</td>\n",
              "      <td>Hospital</td>\n",
              "      <td>12.870697</td>\n",
              "      <td>74.846558</td>\n",
              "    </tr>\n",
              "    <tr>\n",
              "      <th>8</th>\n",
              "      <td>KMC Ambedkar Hospital</td>\n",
              "      <td>Hospital</td>\n",
              "      <td>12.872169</td>\n",
              "      <td>74.848706</td>\n",
              "    </tr>\n",
              "    <tr>\n",
              "      <th>9</th>\n",
              "      <td>KMC Hospital Life's On</td>\n",
              "      <td>Hospital</td>\n",
              "      <td>12.872002</td>\n",
              "      <td>74.848127</td>\n",
              "    </tr>\n",
              "    <tr>\n",
              "      <th>10</th>\n",
              "      <td>St Aloysius PU College</td>\n",
              "      <td>College</td>\n",
              "      <td>12.873166</td>\n",
              "      <td>74.844708</td>\n",
              "    </tr>\n",
              "    <tr>\n",
              "      <th>11</th>\n",
              "      <td>Mahesh P.U. College</td>\n",
              "      <td>College</td>\n",
              "      <td>12.913561</td>\n",
              "      <td>74.835975</td>\n",
              "    </tr>\n",
              "    <tr>\n",
              "      <th>12</th>\n",
              "      <td>SDM Law College, Mangalore</td>\n",
              "      <td>College</td>\n",
              "      <td>12.878730</td>\n",
              "      <td>74.841349</td>\n",
              "    </tr>\n",
              "    <tr>\n",
              "      <th>13</th>\n",
              "      <td>Canara College</td>\n",
              "      <td>College</td>\n",
              "      <td>12.879053</td>\n",
              "      <td>74.842549</td>\n",
              "    </tr>\n",
              "    <tr>\n",
              "      <th>14</th>\n",
              "      <td>University College Mangalore</td>\n",
              "      <td>College</td>\n",
              "      <td>12.865785</td>\n",
              "      <td>74.840139</td>\n",
              "    </tr>\n",
              "    <tr>\n",
              "      <th>15</th>\n",
              "      <td>Nalanda School</td>\n",
              "      <td>High School</td>\n",
              "      <td>12.873374</td>\n",
              "      <td>74.840744</td>\n",
              "    </tr>\n",
              "    <tr>\n",
              "      <th>16</th>\n",
              "      <td>Milagres School</td>\n",
              "      <td>High School</td>\n",
              "      <td>12.867199</td>\n",
              "      <td>74.843828</td>\n",
              "    </tr>\n",
              "    <tr>\n",
              "      <th>17</th>\n",
              "      <td>Canara Girls High School</td>\n",
              "      <td>High School</td>\n",
              "      <td>12.877045</td>\n",
              "      <td>74.842680</td>\n",
              "    </tr>\n",
              "    <tr>\n",
              "      <th>18</th>\n",
              "      <td>Government High School</td>\n",
              "      <td>High School</td>\n",
              "      <td>12.870202</td>\n",
              "      <td>74.834983</td>\n",
              "    </tr>\n",
              "    <tr>\n",
              "      <th>19</th>\n",
              "      <td>St. Aloysius High School</td>\n",
              "      <td>High School</td>\n",
              "      <td>12.873727</td>\n",
              "      <td>74.845050</td>\n",
              "    </tr>\n",
              "    <tr>\n",
              "      <th>20</th>\n",
              "      <td>shakthi creations</td>\n",
              "      <td>Factory</td>\n",
              "      <td>12.869485</td>\n",
              "      <td>74.838037</td>\n",
              "    </tr>\n",
              "    <tr>\n",
              "      <th>21</th>\n",
              "      <td>Rudra Industries</td>\n",
              "      <td>Factory</td>\n",
              "      <td>12.877755</td>\n",
              "      <td>74.846977</td>\n",
              "    </tr>\n",
              "    <tr>\n",
              "      <th>22</th>\n",
              "      <td>Sarasija Foods (NARAN'S)</td>\n",
              "      <td>Factory</td>\n",
              "      <td>12.896301</td>\n",
              "      <td>74.861040</td>\n",
              "    </tr>\n",
              "    <tr>\n",
              "      <th>23</th>\n",
              "      <td>Sovereign Tile Works</td>\n",
              "      <td>Factory</td>\n",
              "      <td>12.880381</td>\n",
              "      <td>74.827174</td>\n",
              "    </tr>\n",
              "    <tr>\n",
              "      <th>24</th>\n",
              "      <td>Sarkar laminates</td>\n",
              "      <td>Factory</td>\n",
              "      <td>12.822981</td>\n",
              "      <td>74.859305</td>\n",
              "    </tr>\n",
              "  </tbody>\n",
              "</table>\n",
              "</div>"
            ],
            "text/plain": [
              "                                            name  ...        lng\n",
              "0                                  Mangalore One  ...  74.845673\n",
              "1   Petroleum And Explosives Safety Organisation  ...  74.845460\n",
              "2                                            RTO  ...  74.839396\n",
              "3                     Mangalore City Corporation  ...  74.839219\n",
              "4                                     D C Office  ...  74.836295\n",
              "5                                  Tara Hospital  ...  74.840137\n",
              "6                    Wenlock Government Hospital  ...  74.843103\n",
              "7                              Yenepoya Hospital  ...  74.846558\n",
              "8                          KMC Ambedkar Hospital  ...  74.848706\n",
              "9                         KMC Hospital Life's On  ...  74.848127\n",
              "10                        St Aloysius PU College  ...  74.844708\n",
              "11                           Mahesh P.U. College  ...  74.835975\n",
              "12                    SDM Law College, Mangalore  ...  74.841349\n",
              "13                                Canara College  ...  74.842549\n",
              "14                  University College Mangalore  ...  74.840139\n",
              "15                                Nalanda School  ...  74.840744\n",
              "16                               Milagres School  ...  74.843828\n",
              "17                      Canara Girls High School  ...  74.842680\n",
              "18                        Government High School  ...  74.834983\n",
              "19                      St. Aloysius High School  ...  74.845050\n",
              "20                             shakthi creations  ...  74.838037\n",
              "21                              Rudra Industries  ...  74.846977\n",
              "22                      Sarasija Foods (NARAN'S)  ...  74.861040\n",
              "23                          Sovereign Tile Works  ...  74.827174\n",
              "24                              Sarkar laminates  ...  74.859305\n",
              "\n",
              "[25 rows x 4 columns]"
            ]
          },
          "metadata": {
            "tags": []
          },
          "execution_count": 21
        }
      ]
    },
    {
      "cell_type": "markdown",
      "metadata": {
        "id": "0i2gk206KyI1",
        "colab_type": "text"
      },
      "source": [
        "Lets plot these top spots on the map centered at Mangalore city. Each location is shown in Orange color marker"
      ]
    },
    {
      "cell_type": "code",
      "metadata": {
        "id": "gsfPTa9lR2L7",
        "colab_type": "code",
        "outputId": "e1817784-942c-4e07-a8fb-9bb881d66385",
        "colab": {
          "base_uri": "https://localhost:8080/",
          "height": 669
        }
      },
      "source": [
        "# create map of Mangalore using latitude and longitude values\n",
        "map_mangalore = folium.Map(location=[latitude, longitude], zoom_start=12)\n",
        "\n",
        "# add markers to map\n",
        "for lat, lng, category, name in zip(top_spots['lat'], top_spots['lng'], top_spots['categories'], top_spots['name']):\n",
        "    label = '{}, {}'.format(name, category)\n",
        "    label = folium.Popup(label, parse_html=True)\n",
        "    folium.CircleMarker(\n",
        "        [lat, lng],\n",
        "        radius=7,\n",
        "        popup=label,\n",
        "        color='orange',\n",
        "        fill=True,\n",
        "        fill_color='#3186cc',\n",
        "        fill_opacity=0.7).add_to(map_mangalore) \n",
        "    \n",
        "    \n",
        "map_mangalore"
      ],
      "execution_count": 0,
      "outputs": [
        {
          "output_type": "execute_result",
          "data": {
            "text/html": [
              "<div style=\"width:100%;\"><div style=\"position:relative;width:100%;height:0;padding-bottom:60%;\"><iframe src=\"about:blank\" style=\"position:absolute;width:100%;height:100%;left:0;top:0;border:none !important;\" data-html=PCFET0NUWVBFIGh0bWw+CjxoZWFkPiAgICAKICAgIDxtZXRhIGh0dHAtZXF1aXY9ImNvbnRlbnQtdHlwZSIgY29udGVudD0idGV4dC9odG1sOyBjaGFyc2V0PVVURi04IiAvPgogICAgPHNjcmlwdD5MX1BSRUZFUl9DQU5WQVM9ZmFsc2U7IExfTk9fVE9VQ0g9ZmFsc2U7IExfRElTQUJMRV8zRD1mYWxzZTs8L3NjcmlwdD4KICAgIDxzY3JpcHQgc3JjPSJodHRwczovL2Nkbi5qc2RlbGl2ci5uZXQvbnBtL2xlYWZsZXRAMS40LjAvZGlzdC9sZWFmbGV0LmpzIj48L3NjcmlwdD4KICAgIDxzY3JpcHQgc3JjPSJodHRwczovL2NvZGUuanF1ZXJ5LmNvbS9qcXVlcnktMS4xMi40Lm1pbi5qcyI+PC9zY3JpcHQ+CiAgICA8c2NyaXB0IHNyYz0iaHR0cHM6Ly9tYXhjZG4uYm9vdHN0cmFwY2RuLmNvbS9ib290c3RyYXAvMy4yLjAvanMvYm9vdHN0cmFwLm1pbi5qcyI+PC9zY3JpcHQ+CiAgICA8c2NyaXB0IHNyYz0iaHR0cHM6Ly9jZG5qcy5jbG91ZGZsYXJlLmNvbS9hamF4L2xpYnMvTGVhZmxldC5hd2Vzb21lLW1hcmtlcnMvMi4wLjIvbGVhZmxldC5hd2Vzb21lLW1hcmtlcnMuanMiPjwvc2NyaXB0PgogICAgPGxpbmsgcmVsPSJzdHlsZXNoZWV0IiBocmVmPSJodHRwczovL2Nkbi5qc2RlbGl2ci5uZXQvbnBtL2xlYWZsZXRAMS40LjAvZGlzdC9sZWFmbGV0LmNzcyIvPgogICAgPGxpbmsgcmVsPSJzdHlsZXNoZWV0IiBocmVmPSJodHRwczovL21heGNkbi5ib290c3RyYXBjZG4uY29tL2Jvb3RzdHJhcC8zLjIuMC9jc3MvYm9vdHN0cmFwLm1pbi5jc3MiLz4KICAgIDxsaW5rIHJlbD0ic3R5bGVzaGVldCIgaHJlZj0iaHR0cHM6Ly9tYXhjZG4uYm9vdHN0cmFwY2RuLmNvbS9ib290c3RyYXAvMy4yLjAvY3NzL2Jvb3RzdHJhcC10aGVtZS5taW4uY3NzIi8+CiAgICA8bGluayByZWw9InN0eWxlc2hlZXQiIGhyZWY9Imh0dHBzOi8vbWF4Y2RuLmJvb3RzdHJhcGNkbi5jb20vZm9udC1hd2Vzb21lLzQuNi4zL2Nzcy9mb250LWF3ZXNvbWUubWluLmNzcyIvPgogICAgPGxpbmsgcmVsPSJzdHlsZXNoZWV0IiBocmVmPSJodHRwczovL2NkbmpzLmNsb3VkZmxhcmUuY29tL2FqYXgvbGlicy9MZWFmbGV0LmF3ZXNvbWUtbWFya2Vycy8yLjAuMi9sZWFmbGV0LmF3ZXNvbWUtbWFya2Vycy5jc3MiLz4KICAgIDxsaW5rIHJlbD0ic3R5bGVzaGVldCIgaHJlZj0iaHR0cHM6Ly9yYXdjZG4uZ2l0aGFjay5jb20vcHl0aG9uLXZpc3VhbGl6YXRpb24vZm9saXVtL21hc3Rlci9mb2xpdW0vdGVtcGxhdGVzL2xlYWZsZXQuYXdlc29tZS5yb3RhdGUuY3NzIi8+CiAgICA8c3R5bGU+aHRtbCwgYm9keSB7d2lkdGg6IDEwMCU7aGVpZ2h0OiAxMDAlO21hcmdpbjogMDtwYWRkaW5nOiAwO308L3N0eWxlPgogICAgPHN0eWxlPiNtYXAge3Bvc2l0aW9uOmFic29sdXRlO3RvcDowO2JvdHRvbTowO3JpZ2h0OjA7bGVmdDowO308L3N0eWxlPgogICAgCiAgICA8bWV0YSBuYW1lPSJ2aWV3cG9ydCIgY29udGVudD0id2lkdGg9ZGV2aWNlLXdpZHRoLAogICAgICAgIGluaXRpYWwtc2NhbGU9MS4wLCBtYXhpbXVtLXNjYWxlPTEuMCwgdXNlci1zY2FsYWJsZT1ubyIgLz4KICAgIDxzdHlsZT4jbWFwXzU2YTlmNGRhYjFhNDQ2OGNiZjUzNjBjNjRkMmI2NzUxIHsKICAgICAgICBwb3NpdGlvbjogcmVsYXRpdmU7CiAgICAgICAgd2lkdGg6IDEwMC4wJTsKICAgICAgICBoZWlnaHQ6IDEwMC4wJTsKICAgICAgICBsZWZ0OiAwLjAlOwogICAgICAgIHRvcDogMC4wJTsKICAgICAgICB9CiAgICA8L3N0eWxlPgo8L2hlYWQ+Cjxib2R5PiAgICAKICAgIAogICAgPGRpdiBjbGFzcz0iZm9saXVtLW1hcCIgaWQ9Im1hcF81NmE5ZjRkYWIxYTQ0NjhjYmY1MzYwYzY0ZDJiNjc1MSIgPjwvZGl2Pgo8L2JvZHk+CjxzY3JpcHQ+ICAgIAogICAgCiAgICAKICAgICAgICB2YXIgYm91bmRzID0gbnVsbDsKICAgIAoKICAgIHZhciBtYXBfNTZhOWY0ZGFiMWE0NDY4Y2JmNTM2MGM2NGQyYjY3NTEgPSBMLm1hcCgKICAgICAgICAnbWFwXzU2YTlmNGRhYjFhNDQ2OGNiZjUzNjBjNjRkMmI2NzUxJywgewogICAgICAgIGNlbnRlcjogWzEyLjg2OTgxMDEsIDc0Ljg0MzAwODJdLAogICAgICAgIHpvb206IDEyLAogICAgICAgIG1heEJvdW5kczogYm91bmRzLAogICAgICAgIGxheWVyczogW10sCiAgICAgICAgd29ybGRDb3B5SnVtcDogZmFsc2UsCiAgICAgICAgY3JzOiBMLkNSUy5FUFNHMzg1NywKICAgICAgICB6b29tQ29udHJvbDogdHJ1ZSwKICAgICAgICB9KTsKCgogICAgCiAgICB2YXIgdGlsZV9sYXllcl9iZDU5OTFhOWYwYmU0Mzk2ODE5ZmZhYTQ5NmQ5Njk4MSA9IEwudGlsZUxheWVyKAogICAgICAgICdodHRwczovL3tzfS50aWxlLm9wZW5zdHJlZXRtYXAub3JnL3t6fS97eH0ve3l9LnBuZycsCiAgICAgICAgewogICAgICAgICJhdHRyaWJ1dGlvbiI6IG51bGwsCiAgICAgICAgImRldGVjdFJldGluYSI6IGZhbHNlLAogICAgICAgICJtYXhOYXRpdmVab29tIjogMTgsCiAgICAgICAgIm1heFpvb20iOiAxOCwKICAgICAgICAibWluWm9vbSI6IDAsCiAgICAgICAgIm5vV3JhcCI6IGZhbHNlLAogICAgICAgICJvcGFjaXR5IjogMSwKICAgICAgICAic3ViZG9tYWlucyI6ICJhYmMiLAogICAgICAgICJ0bXMiOiBmYWxzZQp9KS5hZGRUbyhtYXBfNTZhOWY0ZGFiMWE0NDY4Y2JmNTM2MGM2NGQyYjY3NTEpOwogICAgCiAgICAgICAgICAgIHZhciBjaXJjbGVfbWFya2VyX2EwYzAzMDIxOTYwYjRmZjY5MmE1MzM5ZGQzZWZkNDQzID0gTC5jaXJjbGVNYXJrZXIoCiAgICAgICAgICAgICAgICBbMTIuODcxNDY4NTQwMzAxNDc1LCA3NC44NDU2NzI5MTQ2NjA5NF0sCiAgICAgICAgICAgICAgICB7CiAgImJ1YmJsaW5nTW91c2VFdmVudHMiOiB0cnVlLAogICJjb2xvciI6ICJvcmFuZ2UiLAogICJkYXNoQXJyYXkiOiBudWxsLAogICJkYXNoT2Zmc2V0IjogbnVsbCwKICAiZmlsbCI6IHRydWUsCiAgImZpbGxDb2xvciI6ICIjMzE4NmNjIiwKICAiZmlsbE9wYWNpdHkiOiAwLjcsCiAgImZpbGxSdWxlIjogImV2ZW5vZGQiLAogICJsaW5lQ2FwIjogInJvdW5kIiwKICAibGluZUpvaW4iOiAicm91bmQiLAogICJvcGFjaXR5IjogMS4wLAogICJyYWRpdXMiOiA3LAogICJzdHJva2UiOiB0cnVlLAogICJ3ZWlnaHQiOiAzCn0KICAgICAgICAgICAgICAgICkKICAgICAgICAgICAgICAgIC5hZGRUbyhtYXBfNTZhOWY0ZGFiMWE0NDY4Y2JmNTM2MGM2NGQyYjY3NTEpOwogICAgICAgICAgICAKICAgIAogICAgICAgICAgICB2YXIgcG9wdXBfNWVhNTczOWM2Mjk3NGUwNDk3YTk3OGFhNjlkNDQ3MzIgPSBMLnBvcHVwKHttYXhXaWR0aDogJzEwMCUnCiAgICAgICAgICAgIAogICAgICAgICAgICB9KTsKCiAgICAgICAgICAgIAogICAgICAgICAgICAgICAgdmFyIGh0bWxfZjdhMmQzYWE4NWM3NDQyYWE0YTU3ZmY2ZWFlMzRiZTIgPSAkKGA8ZGl2IGlkPSJodG1sX2Y3YTJkM2FhODVjNzQ0MmFhNGE1N2ZmNmVhZTM0YmUyIiBzdHlsZT0id2lkdGg6IDEwMC4wJTsgaGVpZ2h0OiAxMDAuMCU7Ij5NYW5nYWxvcmUgT25lLCBHb3Zlcm5tZW50IEJ1aWxkaW5nPC9kaXY+YClbMF07CiAgICAgICAgICAgICAgICBwb3B1cF81ZWE1NzM5YzYyOTc0ZTA0OTdhOTc4YWE2OWQ0NDczMi5zZXRDb250ZW50KGh0bWxfZjdhMmQzYWE4NWM3NDQyYWE0YTU3ZmY2ZWFlMzRiZTIpOwogICAgICAgICAgICAKCiAgICAgICAgICAgIGNpcmNsZV9tYXJrZXJfYTBjMDMwMjE5NjBiNGZmNjkyYTUzMzlkZDNlZmQ0NDMuYmluZFBvcHVwKHBvcHVwXzVlYTU3MzljNjI5NzRlMDQ5N2E5NzhhYTY5ZDQ0NzMyKQogICAgICAgICAgICA7CgogICAgICAgICAgICAKICAgICAgICAKICAgIAogICAgICAgICAgICB2YXIgY2lyY2xlX21hcmtlcl83ZWY2ZTM2N2Q0MzM0ZDI1YThjYzliZjkwNDAxNDY3NyA9IEwuY2lyY2xlTWFya2VyKAogICAgICAgICAgICAgICAgWzEyLjg3MDUyMSwgNzQuODQ1NDZdLAogICAgICAgICAgICAgICAgewogICJidWJibGluZ01vdXNlRXZlbnRzIjogdHJ1ZSwKICAiY29sb3IiOiAib3JhbmdlIiwKICAiZGFzaEFycmF5IjogbnVsbCwKICAiZGFzaE9mZnNldCI6IG51bGwsCiAgImZpbGwiOiB0cnVlLAogICJmaWxsQ29sb3IiOiAiIzMxODZjYyIsCiAgImZpbGxPcGFjaXR5IjogMC43LAogICJmaWxsUnVsZSI6ICJldmVub2RkIiwKICAibGluZUNhcCI6ICJyb3VuZCIsCiAgImxpbmVKb2luIjogInJvdW5kIiwKICAib3BhY2l0eSI6IDEuMCwKICAicmFkaXVzIjogNywKICAic3Ryb2tlIjogdHJ1ZSwKICAid2VpZ2h0IjogMwp9CiAgICAgICAgICAgICAgICApCiAgICAgICAgICAgICAgICAuYWRkVG8obWFwXzU2YTlmNGRhYjFhNDQ2OGNiZjUzNjBjNjRkMmI2NzUxKTsKICAgICAgICAgICAgCiAgICAKICAgICAgICAgICAgdmFyIHBvcHVwX2Q3OGEzMmQ0MWRkODRhYWI5OGJhYmNiOWMwNjExYWJjID0gTC5wb3B1cCh7bWF4V2lkdGg6ICcxMDAlJwogICAgICAgICAgICAKICAgICAgICAgICAgfSk7CgogICAgICAgICAgICAKICAgICAgICAgICAgICAgIHZhciBodG1sXzRkZjNiMmViODVjNzRmMzc4NGQ1NWJhMjIwNjcyODcwID0gJChgPGRpdiBpZD0iaHRtbF80ZGYzYjJlYjg1Yzc0ZjM3ODRkNTViYTIyMDY3Mjg3MCIgc3R5bGU9IndpZHRoOiAxMDAuMCU7IGhlaWdodDogMTAwLjAlOyI+UGV0cm9sZXVtIEFuZCBFeHBsb3NpdmVzIFNhZmV0eSBPcmdhbmlzYXRpb24sIEdvdmVybm1lbnQgQnVpbGRpbmc8L2Rpdj5gKVswXTsKICAgICAgICAgICAgICAgIHBvcHVwX2Q3OGEzMmQ0MWRkODRhYWI5OGJhYmNiOWMwNjExYWJjLnNldENvbnRlbnQoaHRtbF80ZGYzYjJlYjg1Yzc0ZjM3ODRkNTViYTIyMDY3Mjg3MCk7CiAgICAgICAgICAgIAoKICAgICAgICAgICAgY2lyY2xlX21hcmtlcl83ZWY2ZTM2N2Q0MzM0ZDI1YThjYzliZjkwNDAxNDY3Ny5iaW5kUG9wdXAocG9wdXBfZDc4YTMyZDQxZGQ4NGFhYjk4YmFiY2I5YzA2MTFhYmMpCiAgICAgICAgICAgIDsKCiAgICAgICAgICAgIAogICAgICAgIAogICAgCiAgICAgICAgICAgIHZhciBjaXJjbGVfbWFya2VyX2YwODFlMDc5ZWJhYzQwYWM4OWYyYWQxNzRkMzYyNjliID0gTC5jaXJjbGVNYXJrZXIoCiAgICAgICAgICAgICAgICBbMTIuODYxMzMwNTM4MTY2NTcsIDc0LjgzOTM5NTUzNTE5OV0sCiAgICAgICAgICAgICAgICB7CiAgImJ1YmJsaW5nTW91c2VFdmVudHMiOiB0cnVlLAogICJjb2xvciI6ICJvcmFuZ2UiLAogICJkYXNoQXJyYXkiOiBudWxsLAogICJkYXNoT2Zmc2V0IjogbnVsbCwKICAiZmlsbCI6IHRydWUsCiAgImZpbGxDb2xvciI6ICIjMzE4NmNjIiwKICAiZmlsbE9wYWNpdHkiOiAwLjcsCiAgImZpbGxSdWxlIjogImV2ZW5vZGQiLAogICJsaW5lQ2FwIjogInJvdW5kIiwKICAibGluZUpvaW4iOiAicm91bmQiLAogICJvcGFjaXR5IjogMS4wLAogICJyYWRpdXMiOiA3LAogICJzdHJva2UiOiB0cnVlLAogICJ3ZWlnaHQiOiAzCn0KICAgICAgICAgICAgICAgICkKICAgICAgICAgICAgICAgIC5hZGRUbyhtYXBfNTZhOWY0ZGFiMWE0NDY4Y2JmNTM2MGM2NGQyYjY3NTEpOwogICAgICAgICAgICAKICAgIAogICAgICAgICAgICB2YXIgcG9wdXBfOWU5MWI3NzIyOGUwNDg5NWIzMzVkYzEwOGIyNDJiZGIgPSBMLnBvcHVwKHttYXhXaWR0aDogJzEwMCUnCiAgICAgICAgICAgIAogICAgICAgICAgICB9KTsKCiAgICAgICAgICAgIAogICAgICAgICAgICAgICAgdmFyIGh0bWxfN2Y0YjYyMmVlOWRmNGViZmFlMDNjYTE2NjhjODU5ZmQgPSAkKGA8ZGl2IGlkPSJodG1sXzdmNGI2MjJlZTlkZjRlYmZhZTAzY2ExNjY4Yzg1OWZkIiBzdHlsZT0id2lkdGg6IDEwMC4wJTsgaGVpZ2h0OiAxMDAuMCU7Ij5SVE8sIEdvdmVybm1lbnQgQnVpbGRpbmc8L2Rpdj5gKVswXTsKICAgICAgICAgICAgICAgIHBvcHVwXzllOTFiNzcyMjhlMDQ4OTViMzM1ZGMxMDhiMjQyYmRiLnNldENvbnRlbnQoaHRtbF83ZjRiNjIyZWU5ZGY0ZWJmYWUwM2NhMTY2OGM4NTlmZCk7CiAgICAgICAgICAgIAoKICAgICAgICAgICAgY2lyY2xlX21hcmtlcl9mMDgxZTA3OWViYWM0MGFjODlmMmFkMTc0ZDM2MjY5Yi5iaW5kUG9wdXAocG9wdXBfOWU5MWI3NzIyOGUwNDg5NWIzMzVkYzEwOGIyNDJiZGIpCiAgICAgICAgICAgIDsKCiAgICAgICAgICAgIAogICAgICAgIAogICAgCiAgICAgICAgICAgIHZhciBjaXJjbGVfbWFya2VyXzFiNDIxNWY4YzcxMTQ5NzA4Yzk0ZGU0MTRkMGJkM2EzID0gTC5jaXJjbGVNYXJrZXIoCiAgICAgICAgICAgICAgICBbMTIuODg0NzQwOTA0ODE4NzM4LCA3NC44MzkyMTg5NTIxNTI1Nl0sCiAgICAgICAgICAgICAgICB7CiAgImJ1YmJsaW5nTW91c2VFdmVudHMiOiB0cnVlLAogICJjb2xvciI6ICJvcmFuZ2UiLAogICJkYXNoQXJyYXkiOiBudWxsLAogICJkYXNoT2Zmc2V0IjogbnVsbCwKICAiZmlsbCI6IHRydWUsCiAgImZpbGxDb2xvciI6ICIjMzE4NmNjIiwKICAiZmlsbE9wYWNpdHkiOiAwLjcsCiAgImZpbGxSdWxlIjogImV2ZW5vZGQiLAogICJsaW5lQ2FwIjogInJvdW5kIiwKICAibGluZUpvaW4iOiAicm91bmQiLAogICJvcGFjaXR5IjogMS4wLAogICJyYWRpdXMiOiA3LAogICJzdHJva2UiOiB0cnVlLAogICJ3ZWlnaHQiOiAzCn0KICAgICAgICAgICAgICAgICkKICAgICAgICAgICAgICAgIC5hZGRUbyhtYXBfNTZhOWY0ZGFiMWE0NDY4Y2JmNTM2MGM2NGQyYjY3NTEpOwogICAgICAgICAgICAKICAgIAogICAgICAgICAgICB2YXIgcG9wdXBfNTcyNTg5NzVkMDA4NDMxZGFmYmIyNTAwZDhkNjlhNWUgPSBMLnBvcHVwKHttYXhXaWR0aDogJzEwMCUnCiAgICAgICAgICAgIAogICAgICAgICAgICB9KTsKCiAgICAgICAgICAgIAogICAgICAgICAgICAgICAgdmFyIGh0bWxfZWIwNmRjZTk2M2NhNGQ2ZWJkZTdlMjQ3ODU2NmE4NWEgPSAkKGA8ZGl2IGlkPSJodG1sX2ViMDZkY2U5NjNjYTRkNmViZGU3ZTI0Nzg1NjZhODVhIiBzdHlsZT0id2lkdGg6IDEwMC4wJTsgaGVpZ2h0OiAxMDAuMCU7Ij5NYW5nYWxvcmUgQ2l0eSBDb3Jwb3JhdGlvbiwgR292ZXJubWVudCBCdWlsZGluZzwvZGl2PmApWzBdOwogICAgICAgICAgICAgICAgcG9wdXBfNTcyNTg5NzVkMDA4NDMxZGFmYmIyNTAwZDhkNjlhNWUuc2V0Q29udGVudChodG1sX2ViMDZkY2U5NjNjYTRkNmViZGU3ZTI0Nzg1NjZhODVhKTsKICAgICAgICAgICAgCgogICAgICAgICAgICBjaXJjbGVfbWFya2VyXzFiNDIxNWY4YzcxMTQ5NzA4Yzk0ZGU0MTRkMGJkM2EzLmJpbmRQb3B1cChwb3B1cF81NzI1ODk3NWQwMDg0MzFkYWZiYjI1MDBkOGQ2OWE1ZSkKICAgICAgICAgICAgOwoKICAgICAgICAgICAgCiAgICAgICAgCiAgICAKICAgICAgICAgICAgdmFyIGNpcmNsZV9tYXJrZXJfMzFmOGJjYzUzZmI2NGNhZmEwY2MyOTU3ZmM0NDVmOWMgPSBMLmNpcmNsZU1hcmtlcigKICAgICAgICAgICAgICAgIFsxMi44NjE0MDI2NTI3NDM4NCwgNzQuODM2Mjk0NTk1OTkyMDJdLAogICAgICAgICAgICAgICAgewogICJidWJibGluZ01vdXNlRXZlbnRzIjogdHJ1ZSwKICAiY29sb3IiOiAib3JhbmdlIiwKICAiZGFzaEFycmF5IjogbnVsbCwKICAiZGFzaE9mZnNldCI6IG51bGwsCiAgImZpbGwiOiB0cnVlLAogICJmaWxsQ29sb3IiOiAiIzMxODZjYyIsCiAgImZpbGxPcGFjaXR5IjogMC43LAogICJmaWxsUnVsZSI6ICJldmVub2RkIiwKICAibGluZUNhcCI6ICJyb3VuZCIsCiAgImxpbmVKb2luIjogInJvdW5kIiwKICAib3BhY2l0eSI6IDEuMCwKICAicmFkaXVzIjogNywKICAic3Ryb2tlIjogdHJ1ZSwKICAid2VpZ2h0IjogMwp9CiAgICAgICAgICAgICAgICApCiAgICAgICAgICAgICAgICAuYWRkVG8obWFwXzU2YTlmNGRhYjFhNDQ2OGNiZjUzNjBjNjRkMmI2NzUxKTsKICAgICAgICAgICAgCiAgICAKICAgICAgICAgICAgdmFyIHBvcHVwX2M4NjkwNGVlNmVkMjQ1N2Y5YmM4YzY1MjljNDc1ODk2ID0gTC5wb3B1cCh7bWF4V2lkdGg6ICcxMDAlJwogICAgICAgICAgICAKICAgICAgICAgICAgfSk7CgogICAgICAgICAgICAKICAgICAgICAgICAgICAgIHZhciBodG1sX2MxYjZiYWU1MmFmODRjMmJiOTc5YmMzNjNlYmQ1MzJlID0gJChgPGRpdiBpZD0iaHRtbF9jMWI2YmFlNTJhZjg0YzJiYjk3OWJjMzYzZWJkNTMyZSIgc3R5bGU9IndpZHRoOiAxMDAuMCU7IGhlaWdodDogMTAwLjAlOyI+RCBDIE9mZmljZSwgR292ZXJubWVudCBCdWlsZGluZzwvZGl2PmApWzBdOwogICAgICAgICAgICAgICAgcG9wdXBfYzg2OTA0ZWU2ZWQyNDU3ZjliYzhjNjUyOWM0NzU4OTYuc2V0Q29udGVudChodG1sX2MxYjZiYWU1MmFmODRjMmJiOTc5YmMzNjNlYmQ1MzJlKTsKICAgICAgICAgICAgCgogICAgICAgICAgICBjaXJjbGVfbWFya2VyXzMxZjhiY2M1M2ZiNjRjYWZhMGNjMjk1N2ZjNDQ1ZjljLmJpbmRQb3B1cChwb3B1cF9jODY5MDRlZTZlZDI0NTdmOWJjOGM2NTI5YzQ3NTg5NikKICAgICAgICAgICAgOwoKICAgICAgICAgICAgCiAgICAgICAgCiAgICAKICAgICAgICAgICAgdmFyIGNpcmNsZV9tYXJrZXJfOGQwMWM5Mzc2MGIyNGQ4YWIzOTE3MjNkMzkwZmUzZGIgPSBMLmNpcmNsZU1hcmtlcigKICAgICAgICAgICAgICAgIFsxMi44Njk0OTUsIDc0Ljg0MDEzN10sCiAgICAgICAgICAgICAgICB7CiAgImJ1YmJsaW5nTW91c2VFdmVudHMiOiB0cnVlLAogICJjb2xvciI6ICJvcmFuZ2UiLAogICJkYXNoQXJyYXkiOiBudWxsLAogICJkYXNoT2Zmc2V0IjogbnVsbCwKICAiZmlsbCI6IHRydWUsCiAgImZpbGxDb2xvciI6ICIjMzE4NmNjIiwKICAiZmlsbE9wYWNpdHkiOiAwLjcsCiAgImZpbGxSdWxlIjogImV2ZW5vZGQiLAogICJsaW5lQ2FwIjogInJvdW5kIiwKICAibGluZUpvaW4iOiAicm91bmQiLAogICJvcGFjaXR5IjogMS4wLAogICJyYWRpdXMiOiA3LAogICJzdHJva2UiOiB0cnVlLAogICJ3ZWlnaHQiOiAzCn0KICAgICAgICAgICAgICAgICkKICAgICAgICAgICAgICAgIC5hZGRUbyhtYXBfNTZhOWY0ZGFiMWE0NDY4Y2JmNTM2MGM2NGQyYjY3NTEpOwogICAgICAgICAgICAKICAgIAogICAgICAgICAgICB2YXIgcG9wdXBfNGU2NjY1MzM5YmRlNGRiMjkzMmI2Njk3MDY2OGRmNmEgPSBMLnBvcHVwKHttYXhXaWR0aDogJzEwMCUnCiAgICAgICAgICAgIAogICAgICAgICAgICB9KTsKCiAgICAgICAgICAgIAogICAgICAgICAgICAgICAgdmFyIGh0bWxfMzczMGY2ZGM2YTNkNGQxNjlhYzFmNTY5ZGVhYWJkYmIgPSAkKGA8ZGl2IGlkPSJodG1sXzM3MzBmNmRjNmEzZDRkMTY5YWMxZjU2OWRlYWFiZGJiIiBzdHlsZT0id2lkdGg6IDEwMC4wJTsgaGVpZ2h0OiAxMDAuMCU7Ij5UYXJhIEhvc3BpdGFsLCBIb3NwaXRhbDwvZGl2PmApWzBdOwogICAgICAgICAgICAgICAgcG9wdXBfNGU2NjY1MzM5YmRlNGRiMjkzMmI2Njk3MDY2OGRmNmEuc2V0Q29udGVudChodG1sXzM3MzBmNmRjNmEzZDRkMTY5YWMxZjU2OWRlYWFiZGJiKTsKICAgICAgICAgICAgCgogICAgICAgICAgICBjaXJjbGVfbWFya2VyXzhkMDFjOTM3NjBiMjRkOGFiMzkxNzIzZDM5MGZlM2RiLmJpbmRQb3B1cChwb3B1cF80ZTY2NjUzMzliZGU0ZGIyOTMyYjY2OTcwNjY4ZGY2YSkKICAgICAgICAgICAgOwoKICAgICAgICAgICAgCiAgICAgICAgCiAgICAKICAgICAgICAgICAgdmFyIGNpcmNsZV9tYXJrZXJfOTI0MDQ0N2JhYjFkNDY2ZDlkMzQxOGY4MmMyZmRmM2UgPSBMLmNpcmNsZU1hcmtlcigKICAgICAgICAgICAgICAgIFsxMi44Njc2MDE1NDcxOTM4MSwgNzQuODQzMTAyNzgyNzc4MDVdLAogICAgICAgICAgICAgICAgewogICJidWJibGluZ01vdXNlRXZlbnRzIjogdHJ1ZSwKICAiY29sb3IiOiAib3JhbmdlIiwKICAiZGFzaEFycmF5IjogbnVsbCwKICAiZGFzaE9mZnNldCI6IG51bGwsCiAgImZpbGwiOiB0cnVlLAogICJmaWxsQ29sb3IiOiAiIzMxODZjYyIsCiAgImZpbGxPcGFjaXR5IjogMC43LAogICJmaWxsUnVsZSI6ICJldmVub2RkIiwKICAibGluZUNhcCI6ICJyb3VuZCIsCiAgImxpbmVKb2luIjogInJvdW5kIiwKICAib3BhY2l0eSI6IDEuMCwKICAicmFkaXVzIjogNywKICAic3Ryb2tlIjogdHJ1ZSwKICAid2VpZ2h0IjogMwp9CiAgICAgICAgICAgICAgICApCiAgICAgICAgICAgICAgICAuYWRkVG8obWFwXzU2YTlmNGRhYjFhNDQ2OGNiZjUzNjBjNjRkMmI2NzUxKTsKICAgICAgICAgICAgCiAgICAKICAgICAgICAgICAgdmFyIHBvcHVwX2YwN2RiZjIyMmQ1YjQ2OGE5MDkxOGFiNDk4N2NkNzkwID0gTC5wb3B1cCh7bWF4V2lkdGg6ICcxMDAlJwogICAgICAgICAgICAKICAgICAgICAgICAgfSk7CgogICAgICAgICAgICAKICAgICAgICAgICAgICAgIHZhciBodG1sX2UyYjE0YjRmNzUzMzQ2MTliNzViOTEwOTliNTVkOGU1ID0gJChgPGRpdiBpZD0iaHRtbF9lMmIxNGI0Zjc1MzM0NjE5Yjc1YjkxMDk5YjU1ZDhlNSIgc3R5bGU9IndpZHRoOiAxMDAuMCU7IGhlaWdodDogMTAwLjAlOyI+V2VubG9jayBHb3Zlcm5tZW50IEhvc3BpdGFsLCBIb3NwaXRhbDwvZGl2PmApWzBdOwogICAgICAgICAgICAgICAgcG9wdXBfZjA3ZGJmMjIyZDViNDY4YTkwOTE4YWI0OTg3Y2Q3OTAuc2V0Q29udGVudChodG1sX2UyYjE0YjRmNzUzMzQ2MTliNzViOTEwOTliNTVkOGU1KTsKICAgICAgICAgICAgCgogICAgICAgICAgICBjaXJjbGVfbWFya2VyXzkyNDA0NDdiYWIxZDQ2NmQ5ZDM0MThmODJjMmZkZjNlLmJpbmRQb3B1cChwb3B1cF9mMDdkYmYyMjJkNWI0NjhhOTA5MThhYjQ5ODdjZDc5MCkKICAgICAgICAgICAgOwoKICAgICAgICAgICAgCiAgICAgICAgCiAgICAKICAgICAgICAgICAgdmFyIGNpcmNsZV9tYXJrZXJfNGNmN2RjZmY4MGVmNDQyYjhkOTIxZDM1NGRlNWJiNWQgPSBMLmNpcmNsZU1hcmtlcigKICAgICAgICAgICAgICAgIFsxMi44NzA2OTcwOTc1ODQ5MzcsIDc0Ljg0NjU1ODE3MzA1NzldLAogICAgICAgICAgICAgICAgewogICJidWJibGluZ01vdXNlRXZlbnRzIjogdHJ1ZSwKICAiY29sb3IiOiAib3JhbmdlIiwKICAiZGFzaEFycmF5IjogbnVsbCwKICAiZGFzaE9mZnNldCI6IG51bGwsCiAgImZpbGwiOiB0cnVlLAogICJmaWxsQ29sb3IiOiAiIzMxODZjYyIsCiAgImZpbGxPcGFjaXR5IjogMC43LAogICJmaWxsUnVsZSI6ICJldmVub2RkIiwKICAibGluZUNhcCI6ICJyb3VuZCIsCiAgImxpbmVKb2luIjogInJvdW5kIiwKICAib3BhY2l0eSI6IDEuMCwKICAicmFkaXVzIjogNywKICAic3Ryb2tlIjogdHJ1ZSwKICAid2VpZ2h0IjogMwp9CiAgICAgICAgICAgICAgICApCiAgICAgICAgICAgICAgICAuYWRkVG8obWFwXzU2YTlmNGRhYjFhNDQ2OGNiZjUzNjBjNjRkMmI2NzUxKTsKICAgICAgICAgICAgCiAgICAKICAgICAgICAgICAgdmFyIHBvcHVwXzUwZDAyNmE5MDAyZjRjNTE5ZmM0NDZhZTRmYTZjZTYzID0gTC5wb3B1cCh7bWF4V2lkdGg6ICcxMDAlJwogICAgICAgICAgICAKICAgICAgICAgICAgfSk7CgogICAgICAgICAgICAKICAgICAgICAgICAgICAgIHZhciBodG1sXzkyMzU3ZGQ2NzRmZjQyODQ5MjYxMGQ4M2M5OWU5MTJiID0gJChgPGRpdiBpZD0iaHRtbF85MjM1N2RkNjc0ZmY0Mjg0OTI2MTBkODNjOTllOTEyYiIgc3R5bGU9IndpZHRoOiAxMDAuMCU7IGhlaWdodDogMTAwLjAlOyI+WWVuZXBveWEgSG9zcGl0YWwsIEhvc3BpdGFsPC9kaXY+YClbMF07CiAgICAgICAgICAgICAgICBwb3B1cF81MGQwMjZhOTAwMmY0YzUxOWZjNDQ2YWU0ZmE2Y2U2My5zZXRDb250ZW50KGh0bWxfOTIzNTdkZDY3NGZmNDI4NDkyNjEwZDgzYzk5ZTkxMmIpOwogICAgICAgICAgICAKCiAgICAgICAgICAgIGNpcmNsZV9tYXJrZXJfNGNmN2RjZmY4MGVmNDQyYjhkOTIxZDM1NGRlNWJiNWQuYmluZFBvcHVwKHBvcHVwXzUwZDAyNmE5MDAyZjRjNTE5ZmM0NDZhZTRmYTZjZTYzKQogICAgICAgICAgICA7CgogICAgICAgICAgICAKICAgICAgICAKICAgIAogICAgICAgICAgICB2YXIgY2lyY2xlX21hcmtlcl83NzllNTIyNDliYzU0MDU0YjZjZmQyOGE4MmZmMDkxZSA9IEwuY2lyY2xlTWFya2VyKAogICAgICAgICAgICAgICAgWzEyLjg3MjE2ODUxMjk1MDQyNCwgNzQuODQ4NzA1NjE4ODg1NV0sCiAgICAgICAgICAgICAgICB7CiAgImJ1YmJsaW5nTW91c2VFdmVudHMiOiB0cnVlLAogICJjb2xvciI6ICJvcmFuZ2UiLAogICJkYXNoQXJyYXkiOiBudWxsLAogICJkYXNoT2Zmc2V0IjogbnVsbCwKICAiZmlsbCI6IHRydWUsCiAgImZpbGxDb2xvciI6ICIjMzE4NmNjIiwKICAiZmlsbE9wYWNpdHkiOiAwLjcsCiAgImZpbGxSdWxlIjogImV2ZW5vZGQiLAogICJsaW5lQ2FwIjogInJvdW5kIiwKICAibGluZUpvaW4iOiAicm91bmQiLAogICJvcGFjaXR5IjogMS4wLAogICJyYWRpdXMiOiA3LAogICJzdHJva2UiOiB0cnVlLAogICJ3ZWlnaHQiOiAzCn0KICAgICAgICAgICAgICAgICkKICAgICAgICAgICAgICAgIC5hZGRUbyhtYXBfNTZhOWY0ZGFiMWE0NDY4Y2JmNTM2MGM2NGQyYjY3NTEpOwogICAgICAgICAgICAKICAgIAogICAgICAgICAgICB2YXIgcG9wdXBfOWM5MDY1NWZmYjNhNDVkYThiNTEwNmViMTAwNmYxMDEgPSBMLnBvcHVwKHttYXhXaWR0aDogJzEwMCUnCiAgICAgICAgICAgIAogICAgICAgICAgICB9KTsKCiAgICAgICAgICAgIAogICAgICAgICAgICAgICAgdmFyIGh0bWxfYzQwOTc2MmM5YzE0NDdkNWJjNDcxZjczOTRhMTgyMTEgPSAkKGA8ZGl2IGlkPSJodG1sX2M0MDk3NjJjOWMxNDQ3ZDViYzQ3MWY3Mzk0YTE4MjExIiBzdHlsZT0id2lkdGg6IDEwMC4wJTsgaGVpZ2h0OiAxMDAuMCU7Ij5LTUMgQW1iZWRrYXIgSG9zcGl0YWwsIEhvc3BpdGFsPC9kaXY+YClbMF07CiAgICAgICAgICAgICAgICBwb3B1cF85YzkwNjU1ZmZiM2E0NWRhOGI1MTA2ZWIxMDA2ZjEwMS5zZXRDb250ZW50KGh0bWxfYzQwOTc2MmM5YzE0NDdkNWJjNDcxZjczOTRhMTgyMTEpOwogICAgICAgICAgICAKCiAgICAgICAgICAgIGNpcmNsZV9tYXJrZXJfNzc5ZTUyMjQ5YmM1NDA1NGI2Y2ZkMjhhODJmZjA5MWUuYmluZFBvcHVwKHBvcHVwXzljOTA2NTVmZmIzYTQ1ZGE4YjUxMDZlYjEwMDZmMTAxKQogICAgICAgICAgICA7CgogICAgICAgICAgICAKICAgICAgICAKICAgIAogICAgICAgICAgICB2YXIgY2lyY2xlX21hcmtlcl9jNWU5MjRjN2E0NGM0ZGUwOWJiMGEzNzU4YWE4OTYwNiA9IEwuY2lyY2xlTWFya2VyKAogICAgICAgICAgICAgICAgWzEyLjg3MjAwMiwgNzQuODQ4MTI3XSwKICAgICAgICAgICAgICAgIHsKICAiYnViYmxpbmdNb3VzZUV2ZW50cyI6IHRydWUsCiAgImNvbG9yIjogIm9yYW5nZSIsCiAgImRhc2hBcnJheSI6IG51bGwsCiAgImRhc2hPZmZzZXQiOiBudWxsLAogICJmaWxsIjogdHJ1ZSwKICAiZmlsbENvbG9yIjogIiMzMTg2Y2MiLAogICJmaWxsT3BhY2l0eSI6IDAuNywKICAiZmlsbFJ1bGUiOiAiZXZlbm9kZCIsCiAgImxpbmVDYXAiOiAicm91bmQiLAogICJsaW5lSm9pbiI6ICJyb3VuZCIsCiAgIm9wYWNpdHkiOiAxLjAsCiAgInJhZGl1cyI6IDcsCiAgInN0cm9rZSI6IHRydWUsCiAgIndlaWdodCI6IDMKfQogICAgICAgICAgICAgICAgKQogICAgICAgICAgICAgICAgLmFkZFRvKG1hcF81NmE5ZjRkYWIxYTQ0NjhjYmY1MzYwYzY0ZDJiNjc1MSk7CiAgICAgICAgICAgIAogICAgCiAgICAgICAgICAgIHZhciBwb3B1cF9lZTNkZmI1MDkwNDc0Mjk4ODRlY2IzZjMzNTc0MzlkYSA9IEwucG9wdXAoe21heFdpZHRoOiAnMTAwJScKICAgICAgICAgICAgCiAgICAgICAgICAgIH0pOwoKICAgICAgICAgICAgCiAgICAgICAgICAgICAgICB2YXIgaHRtbF8zOTk2YzhkM2RkNmY0ZWZmOWQ3N2M1YWNmZjJiMGVlYSA9ICQoYDxkaXYgaWQ9Imh0bWxfMzk5NmM4ZDNkZDZmNGVmZjlkNzdjNWFjZmYyYjBlZWEiIHN0eWxlPSJ3aWR0aDogMTAwLjAlOyBoZWlnaHQ6IDEwMC4wJTsiPktNQyBIb3NwaXRhbCBMaWZlJiMzOTtzIE9uLCBIb3NwaXRhbDwvZGl2PmApWzBdOwogICAgICAgICAgICAgICAgcG9wdXBfZWUzZGZiNTA5MDQ3NDI5ODg0ZWNiM2YzMzU3NDM5ZGEuc2V0Q29udGVudChodG1sXzM5OTZjOGQzZGQ2ZjRlZmY5ZDc3YzVhY2ZmMmIwZWVhKTsKICAgICAgICAgICAgCgogICAgICAgICAgICBjaXJjbGVfbWFya2VyX2M1ZTkyNGM3YTQ0YzRkZTA5YmIwYTM3NThhYTg5NjA2LmJpbmRQb3B1cChwb3B1cF9lZTNkZmI1MDkwNDc0Mjk4ODRlY2IzZjMzNTc0MzlkYSkKICAgICAgICAgICAgOwoKICAgICAgICAgICAgCiAgICAgICAgCiAgICAKICAgICAgICAgICAgdmFyIGNpcmNsZV9tYXJrZXJfMTg0ODc5MDNjN2M1NDNmNDg3ZDM5OTBlYmY5MzEzMzMgPSBMLmNpcmNsZU1hcmtlcigKICAgICAgICAgICAgICAgIFsxMi44NzMxNjYzMDUwMDU5ODgsIDc0Ljg0NDcwNzY5MjAzODUxXSwKICAgICAgICAgICAgICAgIHsKICAiYnViYmxpbmdNb3VzZUV2ZW50cyI6IHRydWUsCiAgImNvbG9yIjogIm9yYW5nZSIsCiAgImRhc2hBcnJheSI6IG51bGwsCiAgImRhc2hPZmZzZXQiOiBudWxsLAogICJmaWxsIjogdHJ1ZSwKICAiZmlsbENvbG9yIjogIiMzMTg2Y2MiLAogICJmaWxsT3BhY2l0eSI6IDAuNywKICAiZmlsbFJ1bGUiOiAiZXZlbm9kZCIsCiAgImxpbmVDYXAiOiAicm91bmQiLAogICJsaW5lSm9pbiI6ICJyb3VuZCIsCiAgIm9wYWNpdHkiOiAxLjAsCiAgInJhZGl1cyI6IDcsCiAgInN0cm9rZSI6IHRydWUsCiAgIndlaWdodCI6IDMKfQogICAgICAgICAgICAgICAgKQogICAgICAgICAgICAgICAgLmFkZFRvKG1hcF81NmE5ZjRkYWIxYTQ0NjhjYmY1MzYwYzY0ZDJiNjc1MSk7CiAgICAgICAgICAgIAogICAgCiAgICAgICAgICAgIHZhciBwb3B1cF9iMjgyYzhiMTUzMGE0YTZlODRiNjY5NWJmYWJlYzkxOCA9IEwucG9wdXAoe21heFdpZHRoOiAnMTAwJScKICAgICAgICAgICAgCiAgICAgICAgICAgIH0pOwoKICAgICAgICAgICAgCiAgICAgICAgICAgICAgICB2YXIgaHRtbF81NzNjZDc1ZTljNDY0ZmU5YTE3MTI0NjlkMzFjNGU3OCA9ICQoYDxkaXYgaWQ9Imh0bWxfNTczY2Q3NWU5YzQ2NGZlOWExNzEyNDY5ZDMxYzRlNzgiIHN0eWxlPSJ3aWR0aDogMTAwLjAlOyBoZWlnaHQ6IDEwMC4wJTsiPlN0IEFsb3lzaXVzIFBVIENvbGxlZ2UsIENvbGxlZ2U8L2Rpdj5gKVswXTsKICAgICAgICAgICAgICAgIHBvcHVwX2IyODJjOGIxNTMwYTRhNmU4NGI2Njk1YmZhYmVjOTE4LnNldENvbnRlbnQoaHRtbF81NzNjZDc1ZTljNDY0ZmU5YTE3MTI0NjlkMzFjNGU3OCk7CiAgICAgICAgICAgIAoKICAgICAgICAgICAgY2lyY2xlX21hcmtlcl8xODQ4NzkwM2M3YzU0M2Y0ODdkMzk5MGViZjkzMTMzMy5iaW5kUG9wdXAocG9wdXBfYjI4MmM4YjE1MzBhNGE2ZTg0YjY2OTViZmFiZWM5MTgpCiAgICAgICAgICAgIDsKCiAgICAgICAgICAgIAogICAgICAgIAogICAgCiAgICAgICAgICAgIHZhciBjaXJjbGVfbWFya2VyX2NjOTc5YzMwMDgzNDRmYjc5MjlkNDlkM2RlYTRhMmEyID0gTC5jaXJjbGVNYXJrZXIoCiAgICAgICAgICAgICAgICBbMTIuOTEzNTYxMzU0ODk5NDM2LCA3NC44MzU5NzQ3NDE0MDI2NF0sCiAgICAgICAgICAgICAgICB7CiAgImJ1YmJsaW5nTW91c2VFdmVudHMiOiB0cnVlLAogICJjb2xvciI6ICJvcmFuZ2UiLAogICJkYXNoQXJyYXkiOiBudWxsLAogICJkYXNoT2Zmc2V0IjogbnVsbCwKICAiZmlsbCI6IHRydWUsCiAgImZpbGxDb2xvciI6ICIjMzE4NmNjIiwKICAiZmlsbE9wYWNpdHkiOiAwLjcsCiAgImZpbGxSdWxlIjogImV2ZW5vZGQiLAogICJsaW5lQ2FwIjogInJvdW5kIiwKICAibGluZUpvaW4iOiAicm91bmQiLAogICJvcGFjaXR5IjogMS4wLAogICJyYWRpdXMiOiA3LAogICJzdHJva2UiOiB0cnVlLAogICJ3ZWlnaHQiOiAzCn0KICAgICAgICAgICAgICAgICkKICAgICAgICAgICAgICAgIC5hZGRUbyhtYXBfNTZhOWY0ZGFiMWE0NDY4Y2JmNTM2MGM2NGQyYjY3NTEpOwogICAgICAgICAgICAKICAgIAogICAgICAgICAgICB2YXIgcG9wdXBfZjdmNmNkOWVhYmI4NGExYmIwZjdhMjVjNGJlMGVhY2MgPSBMLnBvcHVwKHttYXhXaWR0aDogJzEwMCUnCiAgICAgICAgICAgIAogICAgICAgICAgICB9KTsKCiAgICAgICAgICAgIAogICAgICAgICAgICAgICAgdmFyIGh0bWxfNjU1ZWM0OWM2MzY2NGY3ZGExNjVlNGY5Nzc0NTgxZWYgPSAkKGA8ZGl2IGlkPSJodG1sXzY1NWVjNDljNjM2NjRmN2RhMTY1ZTRmOTc3NDU4MWVmIiBzdHlsZT0id2lkdGg6IDEwMC4wJTsgaGVpZ2h0OiAxMDAuMCU7Ij5NYWhlc2ggUC5VLiBDb2xsZWdlLCBDb2xsZWdlPC9kaXY+YClbMF07CiAgICAgICAgICAgICAgICBwb3B1cF9mN2Y2Y2Q5ZWFiYjg0YTFiYjBmN2EyNWM0YmUwZWFjYy5zZXRDb250ZW50KGh0bWxfNjU1ZWM0OWM2MzY2NGY3ZGExNjVlNGY5Nzc0NTgxZWYpOwogICAgICAgICAgICAKCiAgICAgICAgICAgIGNpcmNsZV9tYXJrZXJfY2M5NzljMzAwODM0NGZiNzkyOWQ0OWQzZGVhNGEyYTIuYmluZFBvcHVwKHBvcHVwX2Y3ZjZjZDllYWJiODRhMWJiMGY3YTI1YzRiZTBlYWNjKQogICAgICAgICAgICA7CgogICAgICAgICAgICAKICAgICAgICAKICAgIAogICAgICAgICAgICB2YXIgY2lyY2xlX21hcmtlcl85YjEyNmZmMGM2ZTY0MzcwOGU5MWEwMmYxOWFkM2NkMCA9IEwuY2lyY2xlTWFya2VyKAogICAgICAgICAgICAgICAgWzEyLjg3ODcyOTc3MzUxMjgxMSwgNzQuODQxMzQ5MzU4NzcxNjddLAogICAgICAgICAgICAgICAgewogICJidWJibGluZ01vdXNlRXZlbnRzIjogdHJ1ZSwKICAiY29sb3IiOiAib3JhbmdlIiwKICAiZGFzaEFycmF5IjogbnVsbCwKICAiZGFzaE9mZnNldCI6IG51bGwsCiAgImZpbGwiOiB0cnVlLAogICJmaWxsQ29sb3IiOiAiIzMxODZjYyIsCiAgImZpbGxPcGFjaXR5IjogMC43LAogICJmaWxsUnVsZSI6ICJldmVub2RkIiwKICAibGluZUNhcCI6ICJyb3VuZCIsCiAgImxpbmVKb2luIjogInJvdW5kIiwKICAib3BhY2l0eSI6IDEuMCwKICAicmFkaXVzIjogNywKICAic3Ryb2tlIjogdHJ1ZSwKICAid2VpZ2h0IjogMwp9CiAgICAgICAgICAgICAgICApCiAgICAgICAgICAgICAgICAuYWRkVG8obWFwXzU2YTlmNGRhYjFhNDQ2OGNiZjUzNjBjNjRkMmI2NzUxKTsKICAgICAgICAgICAgCiAgICAKICAgICAgICAgICAgdmFyIHBvcHVwXzM3ZjY0MWQwNWM3NjQyOGE5ZjE5ZWFkYTFhOTQwNzdkID0gTC5wb3B1cCh7bWF4V2lkdGg6ICcxMDAlJwogICAgICAgICAgICAKICAgICAgICAgICAgfSk7CgogICAgICAgICAgICAKICAgICAgICAgICAgICAgIHZhciBodG1sXzI4MmM3YTNhMTg3MDQwYjY4NDM1MWEyMjkzNDM3MjMzID0gJChgPGRpdiBpZD0iaHRtbF8yODJjN2EzYTE4NzA0MGI2ODQzNTFhMjI5MzQzNzIzMyIgc3R5bGU9IndpZHRoOiAxMDAuMCU7IGhlaWdodDogMTAwLjAlOyI+U0RNIExhdyBDb2xsZWdlLCBNYW5nYWxvcmUsIENvbGxlZ2U8L2Rpdj5gKVswXTsKICAgICAgICAgICAgICAgIHBvcHVwXzM3ZjY0MWQwNWM3NjQyOGE5ZjE5ZWFkYTFhOTQwNzdkLnNldENvbnRlbnQoaHRtbF8yODJjN2EzYTE4NzA0MGI2ODQzNTFhMjI5MzQzNzIzMyk7CiAgICAgICAgICAgIAoKICAgICAgICAgICAgY2lyY2xlX21hcmtlcl85YjEyNmZmMGM2ZTY0MzcwOGU5MWEwMmYxOWFkM2NkMC5iaW5kUG9wdXAocG9wdXBfMzdmNjQxZDA1Yzc2NDI4YTlmMTllYWRhMWE5NDA3N2QpCiAgICAgICAgICAgIDsKCiAgICAgICAgICAgIAogICAgICAgIAogICAgCiAgICAgICAgICAgIHZhciBjaXJjbGVfbWFya2VyX2JmZDY1OGE0M2NjZjQ1MmZhNmY4NzUyYWM4ZWFkOTM5ID0gTC5jaXJjbGVNYXJrZXIoCiAgICAgICAgICAgICAgICBbMTIuODc5MDUzNDMwNjA4MTc0LCA3NC44NDI1NDg3NzEzMzg1OF0sCiAgICAgICAgICAgICAgICB7CiAgImJ1YmJsaW5nTW91c2VFdmVudHMiOiB0cnVlLAogICJjb2xvciI6ICJvcmFuZ2UiLAogICJkYXNoQXJyYXkiOiBudWxsLAogICJkYXNoT2Zmc2V0IjogbnVsbCwKICAiZmlsbCI6IHRydWUsCiAgImZpbGxDb2xvciI6ICIjMzE4NmNjIiwKICAiZmlsbE9wYWNpdHkiOiAwLjcsCiAgImZpbGxSdWxlIjogImV2ZW5vZGQiLAogICJsaW5lQ2FwIjogInJvdW5kIiwKICAibGluZUpvaW4iOiAicm91bmQiLAogICJvcGFjaXR5IjogMS4wLAogICJyYWRpdXMiOiA3LAogICJzdHJva2UiOiB0cnVlLAogICJ3ZWlnaHQiOiAzCn0KICAgICAgICAgICAgICAgICkKICAgICAgICAgICAgICAgIC5hZGRUbyhtYXBfNTZhOWY0ZGFiMWE0NDY4Y2JmNTM2MGM2NGQyYjY3NTEpOwogICAgICAgICAgICAKICAgIAogICAgICAgICAgICB2YXIgcG9wdXBfMjBkMzg1YmY5Nzc1NDgzYTlkYjE2Y2VjOGVhNmU0ZDEgPSBMLnBvcHVwKHttYXhXaWR0aDogJzEwMCUnCiAgICAgICAgICAgIAogICAgICAgICAgICB9KTsKCiAgICAgICAgICAgIAogICAgICAgICAgICAgICAgdmFyIGh0bWxfMGNkM2QyYjBmZWViNGU2M2E1MmJkZDAwMTBjNjU5NzEgPSAkKGA8ZGl2IGlkPSJodG1sXzBjZDNkMmIwZmVlYjRlNjNhNTJiZGQwMDEwYzY1OTcxIiBzdHlsZT0id2lkdGg6IDEwMC4wJTsgaGVpZ2h0OiAxMDAuMCU7Ij5DYW5hcmEgQ29sbGVnZSwgQ29sbGVnZTwvZGl2PmApWzBdOwogICAgICAgICAgICAgICAgcG9wdXBfMjBkMzg1YmY5Nzc1NDgzYTlkYjE2Y2VjOGVhNmU0ZDEuc2V0Q29udGVudChodG1sXzBjZDNkMmIwZmVlYjRlNjNhNTJiZGQwMDEwYzY1OTcxKTsKICAgICAgICAgICAgCgogICAgICAgICAgICBjaXJjbGVfbWFya2VyX2JmZDY1OGE0M2NjZjQ1MmZhNmY4NzUyYWM4ZWFkOTM5LmJpbmRQb3B1cChwb3B1cF8yMGQzODViZjk3NzU0ODNhOWRiMTZjZWM4ZWE2ZTRkMSkKICAgICAgICAgICAgOwoKICAgICAgICAgICAgCiAgICAgICAgCiAgICAKICAgICAgICAgICAgdmFyIGNpcmNsZV9tYXJrZXJfMmM0Yzg4OGQ4YWI3NDE0M2JkNjU4YjQwYTUyNWViZTQgPSBMLmNpcmNsZU1hcmtlcigKICAgICAgICAgICAgICAgIFsxMi44NjU3ODUzMzg4NjgwNTgsIDc0Ljg0MDEzODUxNDQwNjY2XSwKICAgICAgICAgICAgICAgIHsKICAiYnViYmxpbmdNb3VzZUV2ZW50cyI6IHRydWUsCiAgImNvbG9yIjogIm9yYW5nZSIsCiAgImRhc2hBcnJheSI6IG51bGwsCiAgImRhc2hPZmZzZXQiOiBudWxsLAogICJmaWxsIjogdHJ1ZSwKICAiZmlsbENvbG9yIjogIiMzMTg2Y2MiLAogICJmaWxsT3BhY2l0eSI6IDAuNywKICAiZmlsbFJ1bGUiOiAiZXZlbm9kZCIsCiAgImxpbmVDYXAiOiAicm91bmQiLAogICJsaW5lSm9pbiI6ICJyb3VuZCIsCiAgIm9wYWNpdHkiOiAxLjAsCiAgInJhZGl1cyI6IDcsCiAgInN0cm9rZSI6IHRydWUsCiAgIndlaWdodCI6IDMKfQogICAgICAgICAgICAgICAgKQogICAgICAgICAgICAgICAgLmFkZFRvKG1hcF81NmE5ZjRkYWIxYTQ0NjhjYmY1MzYwYzY0ZDJiNjc1MSk7CiAgICAgICAgICAgIAogICAgCiAgICAgICAgICAgIHZhciBwb3B1cF81OWNiYWEwMDIwZWY0YjEyYTAxZDhjZjRmNTQxNWViYyA9IEwucG9wdXAoe21heFdpZHRoOiAnMTAwJScKICAgICAgICAgICAgCiAgICAgICAgICAgIH0pOwoKICAgICAgICAgICAgCiAgICAgICAgICAgICAgICB2YXIgaHRtbF8wMDNhZTQxNzMwYzg0NDg5YjY2NjhhZjE3MTU2NGZhYyA9ICQoYDxkaXYgaWQ9Imh0bWxfMDAzYWU0MTczMGM4NDQ4OWI2NjY4YWYxNzE1NjRmYWMiIHN0eWxlPSJ3aWR0aDogMTAwLjAlOyBoZWlnaHQ6IDEwMC4wJTsiPlVuaXZlcnNpdHkgQ29sbGVnZSBNYW5nYWxvcmUsIENvbGxlZ2U8L2Rpdj5gKVswXTsKICAgICAgICAgICAgICAgIHBvcHVwXzU5Y2JhYTAwMjBlZjRiMTJhMDFkOGNmNGY1NDE1ZWJjLnNldENvbnRlbnQoaHRtbF8wMDNhZTQxNzMwYzg0NDg5YjY2NjhhZjE3MTU2NGZhYyk7CiAgICAgICAgICAgIAoKICAgICAgICAgICAgY2lyY2xlX21hcmtlcl8yYzRjODg4ZDhhYjc0MTQzYmQ2NThiNDBhNTI1ZWJlNC5iaW5kUG9wdXAocG9wdXBfNTljYmFhMDAyMGVmNGIxMmEwMWQ4Y2Y0ZjU0MTVlYmMpCiAgICAgICAgICAgIDsKCiAgICAgICAgICAgIAogICAgICAgIAogICAgCiAgICAgICAgICAgIHZhciBjaXJjbGVfbWFya2VyXzc2YzU1ZDVkOGQ3YzQwN2NiN2QzZjk2YzcwODc2NjExID0gTC5jaXJjbGVNYXJrZXIoCiAgICAgICAgICAgICAgICBbMTIuODczMzc0Mzg1MDIxMjksIDc0Ljg0MDc0MzkzNzY5Njk0XSwKICAgICAgICAgICAgICAgIHsKICAiYnViYmxpbmdNb3VzZUV2ZW50cyI6IHRydWUsCiAgImNvbG9yIjogIm9yYW5nZSIsCiAgImRhc2hBcnJheSI6IG51bGwsCiAgImRhc2hPZmZzZXQiOiBudWxsLAogICJmaWxsIjogdHJ1ZSwKICAiZmlsbENvbG9yIjogIiMzMTg2Y2MiLAogICJmaWxsT3BhY2l0eSI6IDAuNywKICAiZmlsbFJ1bGUiOiAiZXZlbm9kZCIsCiAgImxpbmVDYXAiOiAicm91bmQiLAogICJsaW5lSm9pbiI6ICJyb3VuZCIsCiAgIm9wYWNpdHkiOiAxLjAsCiAgInJhZGl1cyI6IDcsCiAgInN0cm9rZSI6IHRydWUsCiAgIndlaWdodCI6IDMKfQogICAgICAgICAgICAgICAgKQogICAgICAgICAgICAgICAgLmFkZFRvKG1hcF81NmE5ZjRkYWIxYTQ0NjhjYmY1MzYwYzY0ZDJiNjc1MSk7CiAgICAgICAgICAgIAogICAgCiAgICAgICAgICAgIHZhciBwb3B1cF80MzA5ZWJmMTU5NmU0YjZlYTViZGY4ZGFmZDY1N2Y4MyA9IEwucG9wdXAoe21heFdpZHRoOiAnMTAwJScKICAgICAgICAgICAgCiAgICAgICAgICAgIH0pOwoKICAgICAgICAgICAgCiAgICAgICAgICAgICAgICB2YXIgaHRtbF81OThmOTFhODNkNDE0MTIwOWVkYmI5YTVkYmEwYTg4NiA9ICQoYDxkaXYgaWQ9Imh0bWxfNTk4ZjkxYTgzZDQxNDEyMDllZGJiOWE1ZGJhMGE4ODYiIHN0eWxlPSJ3aWR0aDogMTAwLjAlOyBoZWlnaHQ6IDEwMC4wJTsiPk5hbGFuZGEgU2Nob29sLCBIaWdoIFNjaG9vbDwvZGl2PmApWzBdOwogICAgICAgICAgICAgICAgcG9wdXBfNDMwOWViZjE1OTZlNGI2ZWE1YmRmOGRhZmQ2NTdmODMuc2V0Q29udGVudChodG1sXzU5OGY5MWE4M2Q0MTQxMjA5ZWRiYjlhNWRiYTBhODg2KTsKICAgICAgICAgICAgCgogICAgICAgICAgICBjaXJjbGVfbWFya2VyXzc2YzU1ZDVkOGQ3YzQwN2NiN2QzZjk2YzcwODc2NjExLmJpbmRQb3B1cChwb3B1cF80MzA5ZWJmMTU5NmU0YjZlYTViZGY4ZGFmZDY1N2Y4MykKICAgICAgICAgICAgOwoKICAgICAgICAgICAgCiAgICAgICAgCiAgICAKICAgICAgICAgICAgdmFyIGNpcmNsZV9tYXJrZXJfM2NhYzk4ZjVlNDAwNDhkYWEyN2JhOTNhNmJlN2Y3NzggPSBMLmNpcmNsZU1hcmtlcigKICAgICAgICAgICAgICAgIFsxMi44NjcxOTg1NDczNTg5MTcsIDc0Ljg0MzgyODEzNTE1NTldLAogICAgICAgICAgICAgICAgewogICJidWJibGluZ01vdXNlRXZlbnRzIjogdHJ1ZSwKICAiY29sb3IiOiAib3JhbmdlIiwKICAiZGFzaEFycmF5IjogbnVsbCwKICAiZGFzaE9mZnNldCI6IG51bGwsCiAgImZpbGwiOiB0cnVlLAogICJmaWxsQ29sb3IiOiAiIzMxODZjYyIsCiAgImZpbGxPcGFjaXR5IjogMC43LAogICJmaWxsUnVsZSI6ICJldmVub2RkIiwKICAibGluZUNhcCI6ICJyb3VuZCIsCiAgImxpbmVKb2luIjogInJvdW5kIiwKICAib3BhY2l0eSI6IDEuMCwKICAicmFkaXVzIjogNywKICAic3Ryb2tlIjogdHJ1ZSwKICAid2VpZ2h0IjogMwp9CiAgICAgICAgICAgICAgICApCiAgICAgICAgICAgICAgICAuYWRkVG8obWFwXzU2YTlmNGRhYjFhNDQ2OGNiZjUzNjBjNjRkMmI2NzUxKTsKICAgICAgICAgICAgCiAgICAKICAgICAgICAgICAgdmFyIHBvcHVwX2M1YzkwOTgyNjBlNDQwNmE5M2IwOTg1NWY0MzllN2Y3ID0gTC5wb3B1cCh7bWF4V2lkdGg6ICcxMDAlJwogICAgICAgICAgICAKICAgICAgICAgICAgfSk7CgogICAgICAgICAgICAKICAgICAgICAgICAgICAgIHZhciBodG1sX2U1ZTFjYTkxZmQzYTQ1ZjdhNzM5MDY4ZGFmOGQ0MWEyID0gJChgPGRpdiBpZD0iaHRtbF9lNWUxY2E5MWZkM2E0NWY3YTczOTA2OGRhZjhkNDFhMiIgc3R5bGU9IndpZHRoOiAxMDAuMCU7IGhlaWdodDogMTAwLjAlOyI+TWlsYWdyZXMgU2Nob29sLCBIaWdoIFNjaG9vbDwvZGl2PmApWzBdOwogICAgICAgICAgICAgICAgcG9wdXBfYzVjOTA5ODI2MGU0NDA2YTkzYjA5ODU1ZjQzOWU3Zjcuc2V0Q29udGVudChodG1sX2U1ZTFjYTkxZmQzYTQ1ZjdhNzM5MDY4ZGFmOGQ0MWEyKTsKICAgICAgICAgICAgCgogICAgICAgICAgICBjaXJjbGVfbWFya2VyXzNjYWM5OGY1ZTQwMDQ4ZGFhMjdiYTkzYTZiZTdmNzc4LmJpbmRQb3B1cChwb3B1cF9jNWM5MDk4MjYwZTQ0MDZhOTNiMDk4NTVmNDM5ZTdmNykKICAgICAgICAgICAgOwoKICAgICAgICAgICAgCiAgICAgICAgCiAgICAKICAgICAgICAgICAgdmFyIGNpcmNsZV9tYXJrZXJfNTY3MTdiODI0OWUwNDJiYTg0NzZhNDA2MWI5NzRkYzggPSBMLmNpcmNsZU1hcmtlcigKICAgICAgICAgICAgICAgIFsxMi44NzcwNDU0MDg2OTQ2MzQsIDc0Ljg0MjY4MDEzNTA0MzY0XSwKICAgICAgICAgICAgICAgIHsKICAiYnViYmxpbmdNb3VzZUV2ZW50cyI6IHRydWUsCiAgImNvbG9yIjogIm9yYW5nZSIsCiAgImRhc2hBcnJheSI6IG51bGwsCiAgImRhc2hPZmZzZXQiOiBudWxsLAogICJmaWxsIjogdHJ1ZSwKICAiZmlsbENvbG9yIjogIiMzMTg2Y2MiLAogICJmaWxsT3BhY2l0eSI6IDAuNywKICAiZmlsbFJ1bGUiOiAiZXZlbm9kZCIsCiAgImxpbmVDYXAiOiAicm91bmQiLAogICJsaW5lSm9pbiI6ICJyb3VuZCIsCiAgIm9wYWNpdHkiOiAxLjAsCiAgInJhZGl1cyI6IDcsCiAgInN0cm9rZSI6IHRydWUsCiAgIndlaWdodCI6IDMKfQogICAgICAgICAgICAgICAgKQogICAgICAgICAgICAgICAgLmFkZFRvKG1hcF81NmE5ZjRkYWIxYTQ0NjhjYmY1MzYwYzY0ZDJiNjc1MSk7CiAgICAgICAgICAgIAogICAgCiAgICAgICAgICAgIHZhciBwb3B1cF9jNTM2YzkzMjA0NDI0ZWVkYWE3MTVmMzg4Y2FmNWU1MSA9IEwucG9wdXAoe21heFdpZHRoOiAnMTAwJScKICAgICAgICAgICAgCiAgICAgICAgICAgIH0pOwoKICAgICAgICAgICAgCiAgICAgICAgICAgICAgICB2YXIgaHRtbF84ZTNmYmFmYTEyZmQ0MGM4YjYzNzc4NjJmODk4ZGFlNiA9ICQoYDxkaXYgaWQ9Imh0bWxfOGUzZmJhZmExMmZkNDBjOGI2Mzc3ODYyZjg5OGRhZTYiIHN0eWxlPSJ3aWR0aDogMTAwLjAlOyBoZWlnaHQ6IDEwMC4wJTsiPkNhbmFyYSBHaXJscyBIaWdoIFNjaG9vbCwgSGlnaCBTY2hvb2w8L2Rpdj5gKVswXTsKICAgICAgICAgICAgICAgIHBvcHVwX2M1MzZjOTMyMDQ0MjRlZWRhYTcxNWYzODhjYWY1ZTUxLnNldENvbnRlbnQoaHRtbF84ZTNmYmFmYTEyZmQ0MGM4YjYzNzc4NjJmODk4ZGFlNik7CiAgICAgICAgICAgIAoKICAgICAgICAgICAgY2lyY2xlX21hcmtlcl81NjcxN2I4MjQ5ZTA0MmJhODQ3NmE0MDYxYjk3NGRjOC5iaW5kUG9wdXAocG9wdXBfYzUzNmM5MzIwNDQyNGVlZGFhNzE1ZjM4OGNhZjVlNTEpCiAgICAgICAgICAgIDsKCiAgICAgICAgICAgIAogICAgICAgIAogICAgCiAgICAgICAgICAgIHZhciBjaXJjbGVfbWFya2VyX2EyZjZkNmRhYjE3MzQ2NTg5NDJlMzg5NTg1MjYyMzM5ID0gTC5jaXJjbGVNYXJrZXIoCiAgICAgICAgICAgICAgICBbMTIuODcwMjAyMzYyODE1ODU4LCA3NC44MzQ5ODMzNDg4NDY0NF0sCiAgICAgICAgICAgICAgICB7CiAgImJ1YmJsaW5nTW91c2VFdmVudHMiOiB0cnVlLAogICJjb2xvciI6ICJvcmFuZ2UiLAogICJkYXNoQXJyYXkiOiBudWxsLAogICJkYXNoT2Zmc2V0IjogbnVsbCwKICAiZmlsbCI6IHRydWUsCiAgImZpbGxDb2xvciI6ICIjMzE4NmNjIiwKICAiZmlsbE9wYWNpdHkiOiAwLjcsCiAgImZpbGxSdWxlIjogImV2ZW5vZGQiLAogICJsaW5lQ2FwIjogInJvdW5kIiwKICAibGluZUpvaW4iOiAicm91bmQiLAogICJvcGFjaXR5IjogMS4wLAogICJyYWRpdXMiOiA3LAogICJzdHJva2UiOiB0cnVlLAogICJ3ZWlnaHQiOiAzCn0KICAgICAgICAgICAgICAgICkKICAgICAgICAgICAgICAgIC5hZGRUbyhtYXBfNTZhOWY0ZGFiMWE0NDY4Y2JmNTM2MGM2NGQyYjY3NTEpOwogICAgICAgICAgICAKICAgIAogICAgICAgICAgICB2YXIgcG9wdXBfNzc0ZDM1ZDkxNjU2NDMxOGI2YjRiMWQxNDhkZTU0MmMgPSBMLnBvcHVwKHttYXhXaWR0aDogJzEwMCUnCiAgICAgICAgICAgIAogICAgICAgICAgICB9KTsKCiAgICAgICAgICAgIAogICAgICAgICAgICAgICAgdmFyIGh0bWxfNjQ5NThlOWFkMjE4NDcyNWJhZmZjOWI0ZjUxMjRjYTEgPSAkKGA8ZGl2IGlkPSJodG1sXzY0OTU4ZTlhZDIxODQ3MjViYWZmYzliNGY1MTI0Y2ExIiBzdHlsZT0id2lkdGg6IDEwMC4wJTsgaGVpZ2h0OiAxMDAuMCU7Ij5Hb3Zlcm5tZW50IEhpZ2ggU2Nob29sLCBIaWdoIFNjaG9vbDwvZGl2PmApWzBdOwogICAgICAgICAgICAgICAgcG9wdXBfNzc0ZDM1ZDkxNjU2NDMxOGI2YjRiMWQxNDhkZTU0MmMuc2V0Q29udGVudChodG1sXzY0OTU4ZTlhZDIxODQ3MjViYWZmYzliNGY1MTI0Y2ExKTsKICAgICAgICAgICAgCgogICAgICAgICAgICBjaXJjbGVfbWFya2VyX2EyZjZkNmRhYjE3MzQ2NTg5NDJlMzg5NTg1MjYyMzM5LmJpbmRQb3B1cChwb3B1cF83NzRkMzVkOTE2NTY0MzE4YjZiNGIxZDE0OGRlNTQyYykKICAgICAgICAgICAgOwoKICAgICAgICAgICAgCiAgICAgICAgCiAgICAKICAgICAgICAgICAgdmFyIGNpcmNsZV9tYXJrZXJfMDhhMjdkOWQwYzM0NDNmNzg1ODI1MjFiZWIzZDU1NTMgPSBMLmNpcmNsZU1hcmtlcigKICAgICAgICAgICAgICAgIFsxMi44NzM3MjcwMjE1MTIzMSwgNzQuODQ1MDUwMzc1MjcxNThdLAogICAgICAgICAgICAgICAgewogICJidWJibGluZ01vdXNlRXZlbnRzIjogdHJ1ZSwKICAiY29sb3IiOiAib3JhbmdlIiwKICAiZGFzaEFycmF5IjogbnVsbCwKICAiZGFzaE9mZnNldCI6IG51bGwsCiAgImZpbGwiOiB0cnVlLAogICJmaWxsQ29sb3IiOiAiIzMxODZjYyIsCiAgImZpbGxPcGFjaXR5IjogMC43LAogICJmaWxsUnVsZSI6ICJldmVub2RkIiwKICAibGluZUNhcCI6ICJyb3VuZCIsCiAgImxpbmVKb2luIjogInJvdW5kIiwKICAib3BhY2l0eSI6IDEuMCwKICAicmFkaXVzIjogNywKICAic3Ryb2tlIjogdHJ1ZSwKICAid2VpZ2h0IjogMwp9CiAgICAgICAgICAgICAgICApCiAgICAgICAgICAgICAgICAuYWRkVG8obWFwXzU2YTlmNGRhYjFhNDQ2OGNiZjUzNjBjNjRkMmI2NzUxKTsKICAgICAgICAgICAgCiAgICAKICAgICAgICAgICAgdmFyIHBvcHVwXzhhMGQ0YjU2NjM1YTQ0MjlhOWZhYjFjNGFiMzcxMzU2ID0gTC5wb3B1cCh7bWF4V2lkdGg6ICcxMDAlJwogICAgICAgICAgICAKICAgICAgICAgICAgfSk7CgogICAgICAgICAgICAKICAgICAgICAgICAgICAgIHZhciBodG1sXzZmYWY1YWZhMWFmZDQzNzA5NzA5ZDdhMzY3Nzc4ZTQ5ID0gJChgPGRpdiBpZD0iaHRtbF82ZmFmNWFmYTFhZmQ0MzcwOTcwOWQ3YTM2Nzc3OGU0OSIgc3R5bGU9IndpZHRoOiAxMDAuMCU7IGhlaWdodDogMTAwLjAlOyI+U3QuIEFsb3lzaXVzIEhpZ2ggU2Nob29sLCBIaWdoIFNjaG9vbDwvZGl2PmApWzBdOwogICAgICAgICAgICAgICAgcG9wdXBfOGEwZDRiNTY2MzVhNDQyOWE5ZmFiMWM0YWIzNzEzNTYuc2V0Q29udGVudChodG1sXzZmYWY1YWZhMWFmZDQzNzA5NzA5ZDdhMzY3Nzc4ZTQ5KTsKICAgICAgICAgICAgCgogICAgICAgICAgICBjaXJjbGVfbWFya2VyXzA4YTI3ZDlkMGMzNDQzZjc4NTgyNTIxYmViM2Q1NTUzLmJpbmRQb3B1cChwb3B1cF84YTBkNGI1NjYzNWE0NDI5YTlmYWIxYzRhYjM3MTM1NikKICAgICAgICAgICAgOwoKICAgICAgICAgICAgCiAgICAgICAgCiAgICAKICAgICAgICAgICAgdmFyIGNpcmNsZV9tYXJrZXJfODVjMTkwOTNhOWVlNDExODgxNTBkYWM5MDU3ZGFlNmUgPSBMLmNpcmNsZU1hcmtlcigKICAgICAgICAgICAgICAgIFsxMi44Njk0ODUyMTY4MDk4MjYsIDc0LjgzODAzNjY1MDMxNzM1XSwKICAgICAgICAgICAgICAgIHsKICAiYnViYmxpbmdNb3VzZUV2ZW50cyI6IHRydWUsCiAgImNvbG9yIjogIm9yYW5nZSIsCiAgImRhc2hBcnJheSI6IG51bGwsCiAgImRhc2hPZmZzZXQiOiBudWxsLAogICJmaWxsIjogdHJ1ZSwKICAiZmlsbENvbG9yIjogIiMzMTg2Y2MiLAogICJmaWxsT3BhY2l0eSI6IDAuNywKICAiZmlsbFJ1bGUiOiAiZXZlbm9kZCIsCiAgImxpbmVDYXAiOiAicm91bmQiLAogICJsaW5lSm9pbiI6ICJyb3VuZCIsCiAgIm9wYWNpdHkiOiAxLjAsCiAgInJhZGl1cyI6IDcsCiAgInN0cm9rZSI6IHRydWUsCiAgIndlaWdodCI6IDMKfQogICAgICAgICAgICAgICAgKQogICAgICAgICAgICAgICAgLmFkZFRvKG1hcF81NmE5ZjRkYWIxYTQ0NjhjYmY1MzYwYzY0ZDJiNjc1MSk7CiAgICAgICAgICAgIAogICAgCiAgICAgICAgICAgIHZhciBwb3B1cF8yYjAzZmVlYjMzNzE0NmMwOGU1MWE4ZDg1YTkzNTUwYiA9IEwucG9wdXAoe21heFdpZHRoOiAnMTAwJScKICAgICAgICAgICAgCiAgICAgICAgICAgIH0pOwoKICAgICAgICAgICAgCiAgICAgICAgICAgICAgICB2YXIgaHRtbF9kMmE4YjQ1NjBlMmU0MDkwOTAxNjUwZDQ5ZTZmNTYwYyA9ICQoYDxkaXYgaWQ9Imh0bWxfZDJhOGI0NTYwZTJlNDA5MDkwMTY1MGQ0OWU2ZjU2MGMiIHN0eWxlPSJ3aWR0aDogMTAwLjAlOyBoZWlnaHQ6IDEwMC4wJTsiPnNoYWt0aGkgY3JlYXRpb25zLCBGYWN0b3J5PC9kaXY+YClbMF07CiAgICAgICAgICAgICAgICBwb3B1cF8yYjAzZmVlYjMzNzE0NmMwOGU1MWE4ZDg1YTkzNTUwYi5zZXRDb250ZW50KGh0bWxfZDJhOGI0NTYwZTJlNDA5MDkwMTY1MGQ0OWU2ZjU2MGMpOwogICAgICAgICAgICAKCiAgICAgICAgICAgIGNpcmNsZV9tYXJrZXJfODVjMTkwOTNhOWVlNDExODgxNTBkYWM5MDU3ZGFlNmUuYmluZFBvcHVwKHBvcHVwXzJiMDNmZWViMzM3MTQ2YzA4ZTUxYThkODVhOTM1NTBiKQogICAgICAgICAgICA7CgogICAgICAgICAgICAKICAgICAgICAKICAgIAogICAgICAgICAgICB2YXIgY2lyY2xlX21hcmtlcl84NzY3N2E1MTY0OTU0NDdmOWQ5NGFiMTc5Zjc4NzNjOCA9IEwuY2lyY2xlTWFya2VyKAogICAgICAgICAgICAgICAgWzEyLjg3Nzc1NSwgNzQuODQ2OTc3XSwKICAgICAgICAgICAgICAgIHsKICAiYnViYmxpbmdNb3VzZUV2ZW50cyI6IHRydWUsCiAgImNvbG9yIjogIm9yYW5nZSIsCiAgImRhc2hBcnJheSI6IG51bGwsCiAgImRhc2hPZmZzZXQiOiBudWxsLAogICJmaWxsIjogdHJ1ZSwKICAiZmlsbENvbG9yIjogIiMzMTg2Y2MiLAogICJmaWxsT3BhY2l0eSI6IDAuNywKICAiZmlsbFJ1bGUiOiAiZXZlbm9kZCIsCiAgImxpbmVDYXAiOiAicm91bmQiLAogICJsaW5lSm9pbiI6ICJyb3VuZCIsCiAgIm9wYWNpdHkiOiAxLjAsCiAgInJhZGl1cyI6IDcsCiAgInN0cm9rZSI6IHRydWUsCiAgIndlaWdodCI6IDMKfQogICAgICAgICAgICAgICAgKQogICAgICAgICAgICAgICAgLmFkZFRvKG1hcF81NmE5ZjRkYWIxYTQ0NjhjYmY1MzYwYzY0ZDJiNjc1MSk7CiAgICAgICAgICAgIAogICAgCiAgICAgICAgICAgIHZhciBwb3B1cF81ZTI5ZGQ1NGJmODc0ZTA5ODdhYTlkMjc2Yjg2ZTQ5MSA9IEwucG9wdXAoe21heFdpZHRoOiAnMTAwJScKICAgICAgICAgICAgCiAgICAgICAgICAgIH0pOwoKICAgICAgICAgICAgCiAgICAgICAgICAgICAgICB2YXIgaHRtbF8wOWU3ODFiYTZjMDc0NDA1OTg1MzIwOWE3MmQ4NTFjNiA9ICQoYDxkaXYgaWQ9Imh0bWxfMDllNzgxYmE2YzA3NDQwNTk4NTMyMDlhNzJkODUxYzYiIHN0eWxlPSJ3aWR0aDogMTAwLjAlOyBoZWlnaHQ6IDEwMC4wJTsiPlJ1ZHJhIEluZHVzdHJpZXMsIEZhY3Rvcnk8L2Rpdj5gKVswXTsKICAgICAgICAgICAgICAgIHBvcHVwXzVlMjlkZDU0YmY4NzRlMDk4N2FhOWQyNzZiODZlNDkxLnNldENvbnRlbnQoaHRtbF8wOWU3ODFiYTZjMDc0NDA1OTg1MzIwOWE3MmQ4NTFjNik7CiAgICAgICAgICAgIAoKICAgICAgICAgICAgY2lyY2xlX21hcmtlcl84NzY3N2E1MTY0OTU0NDdmOWQ5NGFiMTc5Zjc4NzNjOC5iaW5kUG9wdXAocG9wdXBfNWUyOWRkNTRiZjg3NGUwOTg3YWE5ZDI3NmI4NmU0OTEpCiAgICAgICAgICAgIDsKCiAgICAgICAgICAgIAogICAgICAgIAogICAgCiAgICAgICAgICAgIHZhciBjaXJjbGVfbWFya2VyXzBkODgxOGE5ZGYwNzQ3OWI4YzQzMmRiY2Q0MjNjZDBkID0gTC5jaXJjbGVNYXJrZXIoCiAgICAgICAgICAgICAgICBbMTIuODk2MzAxLCA3NC44NjEwNF0sCiAgICAgICAgICAgICAgICB7CiAgImJ1YmJsaW5nTW91c2VFdmVudHMiOiB0cnVlLAogICJjb2xvciI6ICJvcmFuZ2UiLAogICJkYXNoQXJyYXkiOiBudWxsLAogICJkYXNoT2Zmc2V0IjogbnVsbCwKICAiZmlsbCI6IHRydWUsCiAgImZpbGxDb2xvciI6ICIjMzE4NmNjIiwKICAiZmlsbE9wYWNpdHkiOiAwLjcsCiAgImZpbGxSdWxlIjogImV2ZW5vZGQiLAogICJsaW5lQ2FwIjogInJvdW5kIiwKICAibGluZUpvaW4iOiAicm91bmQiLAogICJvcGFjaXR5IjogMS4wLAogICJyYWRpdXMiOiA3LAogICJzdHJva2UiOiB0cnVlLAogICJ3ZWlnaHQiOiAzCn0KICAgICAgICAgICAgICAgICkKICAgICAgICAgICAgICAgIC5hZGRUbyhtYXBfNTZhOWY0ZGFiMWE0NDY4Y2JmNTM2MGM2NGQyYjY3NTEpOwogICAgICAgICAgICAKICAgIAogICAgICAgICAgICB2YXIgcG9wdXBfZWQwY2FlZWFlYzY5NDMxZmE0MDdhNjAxZGZlNjA2MzcgPSBMLnBvcHVwKHttYXhXaWR0aDogJzEwMCUnCiAgICAgICAgICAgIAogICAgICAgICAgICB9KTsKCiAgICAgICAgICAgIAogICAgICAgICAgICAgICAgdmFyIGh0bWxfMzI1YTZkMjMxNGZkNGM5MGFmYzBkODJkNmNiY2EwYTQgPSAkKGA8ZGl2IGlkPSJodG1sXzMyNWE2ZDIzMTRmZDRjOTBhZmMwZDgyZDZjYmNhMGE0IiBzdHlsZT0id2lkdGg6IDEwMC4wJTsgaGVpZ2h0OiAxMDAuMCU7Ij5TYXJhc2lqYSBGb29kcyAoTkFSQU4mIzM5O1MpLCBGYWN0b3J5PC9kaXY+YClbMF07CiAgICAgICAgICAgICAgICBwb3B1cF9lZDBjYWVlYWVjNjk0MzFmYTQwN2E2MDFkZmU2MDYzNy5zZXRDb250ZW50KGh0bWxfMzI1YTZkMjMxNGZkNGM5MGFmYzBkODJkNmNiY2EwYTQpOwogICAgICAgICAgICAKCiAgICAgICAgICAgIGNpcmNsZV9tYXJrZXJfMGQ4ODE4YTlkZjA3NDc5YjhjNDMyZGJjZDQyM2NkMGQuYmluZFBvcHVwKHBvcHVwX2VkMGNhZWVhZWM2OTQzMWZhNDA3YTYwMWRmZTYwNjM3KQogICAgICAgICAgICA7CgogICAgICAgICAgICAKICAgICAgICAKICAgIAogICAgICAgICAgICB2YXIgY2lyY2xlX21hcmtlcl8zMTViODJlYjQ3Y2E0MjRhOGU0ZTRhZGIwNzk3ZTBmMSA9IEwuY2lyY2xlTWFya2VyKAogICAgICAgICAgICAgICAgWzEyLjg4MDM4MSwgNzQuODI3MTc0XSwKICAgICAgICAgICAgICAgIHsKICAiYnViYmxpbmdNb3VzZUV2ZW50cyI6IHRydWUsCiAgImNvbG9yIjogIm9yYW5nZSIsCiAgImRhc2hBcnJheSI6IG51bGwsCiAgImRhc2hPZmZzZXQiOiBudWxsLAogICJmaWxsIjogdHJ1ZSwKICAiZmlsbENvbG9yIjogIiMzMTg2Y2MiLAogICJmaWxsT3BhY2l0eSI6IDAuNywKICAiZmlsbFJ1bGUiOiAiZXZlbm9kZCIsCiAgImxpbmVDYXAiOiAicm91bmQiLAogICJsaW5lSm9pbiI6ICJyb3VuZCIsCiAgIm9wYWNpdHkiOiAxLjAsCiAgInJhZGl1cyI6IDcsCiAgInN0cm9rZSI6IHRydWUsCiAgIndlaWdodCI6IDMKfQogICAgICAgICAgICAgICAgKQogICAgICAgICAgICAgICAgLmFkZFRvKG1hcF81NmE5ZjRkYWIxYTQ0NjhjYmY1MzYwYzY0ZDJiNjc1MSk7CiAgICAgICAgICAgIAogICAgCiAgICAgICAgICAgIHZhciBwb3B1cF9jYzY0ZGJmZWM4OGE0YmYyOTgwMDIxMzIyNWRiZDY3MiA9IEwucG9wdXAoe21heFdpZHRoOiAnMTAwJScKICAgICAgICAgICAgCiAgICAgICAgICAgIH0pOwoKICAgICAgICAgICAgCiAgICAgICAgICAgICAgICB2YXIgaHRtbF8yMzlhNDk2MWM5YjY0NjQwYTQyYjNiMGM1MmM2YmY3MiA9ICQoYDxkaXYgaWQ9Imh0bWxfMjM5YTQ5NjFjOWI2NDY0MGE0MmIzYjBjNTJjNmJmNzIiIHN0eWxlPSJ3aWR0aDogMTAwLjAlOyBoZWlnaHQ6IDEwMC4wJTsiPlNvdmVyZWlnbiBUaWxlIFdvcmtzLCBGYWN0b3J5PC9kaXY+YClbMF07CiAgICAgICAgICAgICAgICBwb3B1cF9jYzY0ZGJmZWM4OGE0YmYyOTgwMDIxMzIyNWRiZDY3Mi5zZXRDb250ZW50KGh0bWxfMjM5YTQ5NjFjOWI2NDY0MGE0MmIzYjBjNTJjNmJmNzIpOwogICAgICAgICAgICAKCiAgICAgICAgICAgIGNpcmNsZV9tYXJrZXJfMzE1YjgyZWI0N2NhNDI0YThlNGU0YWRiMDc5N2UwZjEuYmluZFBvcHVwKHBvcHVwX2NjNjRkYmZlYzg4YTRiZjI5ODAwMjEzMjI1ZGJkNjcyKQogICAgICAgICAgICA7CgogICAgICAgICAgICAKICAgICAgICAKICAgIAogICAgICAgICAgICB2YXIgY2lyY2xlX21hcmtlcl9mZWI5OGQxYjE0Zjk0OGNmOTMwNjcwOTZmYTNlYTY0YiA9IEwuY2lyY2xlTWFya2VyKAogICAgICAgICAgICAgICAgWzEyLjgyMjk4MTIyNzEyMzk2LCA3NC44NTkzMDUzNjc5MjAwM10sCiAgICAgICAgICAgICAgICB7CiAgImJ1YmJsaW5nTW91c2VFdmVudHMiOiB0cnVlLAogICJjb2xvciI6ICJvcmFuZ2UiLAogICJkYXNoQXJyYXkiOiBudWxsLAogICJkYXNoT2Zmc2V0IjogbnVsbCwKICAiZmlsbCI6IHRydWUsCiAgImZpbGxDb2xvciI6ICIjMzE4NmNjIiwKICAiZmlsbE9wYWNpdHkiOiAwLjcsCiAgImZpbGxSdWxlIjogImV2ZW5vZGQiLAogICJsaW5lQ2FwIjogInJvdW5kIiwKICAibGluZUpvaW4iOiAicm91bmQiLAogICJvcGFjaXR5IjogMS4wLAogICJyYWRpdXMiOiA3LAogICJzdHJva2UiOiB0cnVlLAogICJ3ZWlnaHQiOiAzCn0KICAgICAgICAgICAgICAgICkKICAgICAgICAgICAgICAgIC5hZGRUbyhtYXBfNTZhOWY0ZGFiMWE0NDY4Y2JmNTM2MGM2NGQyYjY3NTEpOwogICAgICAgICAgICAKICAgIAogICAgICAgICAgICB2YXIgcG9wdXBfM2Q4OTU0NzU2MzMyNDc3NDk2NmY4MzI2ZTk3MzIyMzMgPSBMLnBvcHVwKHttYXhXaWR0aDogJzEwMCUnCiAgICAgICAgICAgIAogICAgICAgICAgICB9KTsKCiAgICAgICAgICAgIAogICAgICAgICAgICAgICAgdmFyIGh0bWxfMjg2MzhhMDkzOGJjNGE3OGE5M2M1NjZkZGYzNWY5YTcgPSAkKGA8ZGl2IGlkPSJodG1sXzI4NjM4YTA5MzhiYzRhNzhhOTNjNTY2ZGRmMzVmOWE3IiBzdHlsZT0id2lkdGg6IDEwMC4wJTsgaGVpZ2h0OiAxMDAuMCU7Ij5TYXJrYXIgbGFtaW5hdGVzLCBGYWN0b3J5PC9kaXY+YClbMF07CiAgICAgICAgICAgICAgICBwb3B1cF8zZDg5NTQ3NTYzMzI0Nzc0OTY2ZjgzMjZlOTczMjIzMy5zZXRDb250ZW50KGh0bWxfMjg2MzhhMDkzOGJjNGE3OGE5M2M1NjZkZGYzNWY5YTcpOwogICAgICAgICAgICAKCiAgICAgICAgICAgIGNpcmNsZV9tYXJrZXJfZmViOThkMWIxNGY5NDhjZjkzMDY3MDk2ZmEzZWE2NGIuYmluZFBvcHVwKHBvcHVwXzNkODk1NDc1NjMzMjQ3NzQ5NjZmODMyNmU5NzMyMjMzKQogICAgICAgICAgICA7CgogICAgICAgICAgICAKICAgICAgICAKPC9zY3JpcHQ+ onload=\"this.contentDocument.open();this.contentDocument.write(atob(this.getAttribute('data-html')));this.contentDocument.close();\" allowfullscreen webkitallowfullscreen mozallowfullscreen></iframe></div></div>"
            ],
            "text/plain": [
              "<folium.folium.Map at 0x7f17e076a9e8>"
            ]
          },
          "metadata": {
            "tags": []
          },
          "execution_count": 29
        }
      ]
    },
    {
      "cell_type": "markdown",
      "metadata": {
        "id": "LwpXRZozMEnJ",
        "colab_type": "text"
      },
      "source": [
        "## 3. Methodology\n",
        "\n",
        "In this project we will put our efforts on identifying the optimal location for a restaurant in Mangalore city within 5km range.\n",
        "We first identified the categories which are usually crowded. These are __Colleges, Hospital, Schools, Factories and Government Buildings__. These 5 categories are more crowded compared to other categories such as Art, Museum, Pool etc.\n",
        "\n",
        "1. In the first step we have collected top 100 locations data for different categories. We then cleaned the data to include only the top 5 locations for each category. Details for each location includes name, latitude, longitude and category name. Plot these locations on the map with Orange color.\n",
        "\n",
        "2. Second step in our analysis will be getting the nearby restaurants __within 200m__ distance from each of these locations. We feel 200m is a reasonable walkable distance from any location. Then plotting these locations on the map to display the nearby restaurants along with locations.\n",
        "\n",
        "3. Third step is to analyse the consolidated data which we obtained in step 2. This analysis will shed light on the recommended locations. \n",
        "\n",
        "4. Final step is to recommend the optimal location to the stakeholders.\n"
      ]
    },
    {
      "cell_type": "markdown",
      "metadata": {
        "id": "EQ7r39ja8QbH",
        "colab_type": "text"
      },
      "source": [
        "Lets define a function to get the nearby restaurant for a given location"
      ]
    },
    {
      "cell_type": "code",
      "metadata": {
        "id": "tl0ea3AS2ELc",
        "colab_type": "code",
        "colab": {}
      },
      "source": [
        "# set the radius and limit\n",
        "radius = 200 # 200 meters\n",
        "LIMIT = 5 # top 5 nearby restaurants\n",
        "\n",
        "# function to get nearby restaurant for a spot\n",
        "def get_nearby_restaurants_for_a_spot(latitude, longitude):\n",
        "\n",
        "    spot_url = 'https://api.foursquare.com/v2/venues/search?client_id={}&client_secret={}&ll={},{}&v={}&radius={}&limit={}&categoryId={}'.format(CLIENT_ID, CLIENT_SECRET, latitude, longitude, VERSION, radius, LIMIT, category_food)\n",
        "\n",
        "    results = requests.get(spot_url).json()\n",
        "\n",
        "    # return the venues for the provided category\n",
        "    return get_nearby_venues(results)"
      ],
      "execution_count": 0,
      "outputs": []
    },
    {
      "cell_type": "markdown",
      "metadata": {
        "id": "M1phuYlfXg6X",
        "colab_type": "text"
      },
      "source": [
        "Lets find the nearby restaurants for each such spot _within 200m, which is walkable distance from the spot_.\n",
        "\n",
        "1. Note that, in the code, i have also __printing the number of location found for each location.__ \n",
        "2. Incase if we don't find any nearby restaurants, then _we don't add such location to the dataframe_."
      ]
    },
    {
      "cell_type": "code",
      "metadata": {
        "id": "M6flj-N6h_po",
        "colab_type": "code",
        "outputId": "c650bcbf-4cd1-4f07-d480-099423e496b6",
        "colab": {
          "base_uri": "https://localhost:8080/",
          "height": 1000
        }
      },
      "source": [
        "# for each spot in top_spots get the nearby restaurants within 200m\n",
        "column_names = [\"location\", \"location_category\", \"location_lat\", \"location_lng\", \"name\", \"categories\", \"lat\", \"lng\"]\n",
        "\n",
        "restaurants_combined = pd.DataFrame(columns = column_names)\n",
        "df = top_spots\n",
        "for lat, lng, name, category in zip(df['lat'], df['lng'], df['name'], df['categories']):\n",
        "    # get the nearby restaurants for a spot\n",
        "    restaurants = get_nearby_restaurants_for_a_spot(lat, lng)\n",
        "\n",
        "    if restaurants.shape[0] > 0:\n",
        "        # filter based on the category value containing Restaurant\n",
        "        restaurants = restaurants[restaurants['categories'].str.contains(\"Restaurant\")].reset_index(drop=True)\n",
        "        restaurants.insert(0, 'location', name)\n",
        "        restaurants.insert(1, 'location_category', category)\n",
        "        restaurants.insert(2, 'location_lat', lat)\n",
        "        restaurants.insert(3, 'location_lng', lng)\n",
        "        \n",
        "        if restaurants.shape[0] == 1 :\n",
        "            print(\"Only one Restaurant found near \", name)\n",
        "        if restaurants.shape[0] == 2 :\n",
        "            print(\"Only two Restaurant found near \", name)\n",
        "\n",
        "        # concat the restaurants data to the combined dataframe\n",
        "        restaurants_combined = pd.concat([restaurants_combined, restaurants])\n",
        "    else:\n",
        "        print(\"NO Restaurants found near \", name)\n",
        "\n",
        "restaurants_combined.reset_index(drop=True)"
      ],
      "execution_count": 0,
      "outputs": [
        {
          "output_type": "stream",
          "text": [
            "/usr/local/lib/python3.6/dist-packages/ipykernel_launcher.py:5: FutureWarning: pandas.io.json.json_normalize is deprecated, use pandas.json_normalize instead\n",
            "  \"\"\"\n"
          ],
          "name": "stderr"
        },
        {
          "output_type": "stream",
          "text": [
            "Only one Restaurant found near  RTO\n",
            "Only two Restaurant found near  D C Office\n",
            "Only two Restaurant found near  KMC Ambedkar Hospital\n",
            "Only two Restaurant found near  KMC Hospital Life's On\n",
            "NO Restaurants found near  Mahesh P.U. College\n",
            "Only one Restaurant found near  SDM Law College, Mangalore\n",
            "Only one Restaurant found near  Canara College\n",
            "Only two Restaurant found near  Nalanda School\n",
            "Only two Restaurant found near  Milagres School\n",
            "Only two Restaurant found near  Canara Girls High School\n",
            "Only two Restaurant found near  Government High School\n",
            "Only one Restaurant found near  St. Aloysius High School\n",
            "Only one Restaurant found near  shakthi creations\n",
            "Only one Restaurant found near  Sarasija Foods (NARAN'S)\n",
            "Only one Restaurant found near  Sovereign Tile Works\n",
            "NO Restaurants found near  Sarkar laminates\n"
          ],
          "name": "stdout"
        },
        {
          "output_type": "execute_result",
          "data": {
            "text/html": [
              "<div>\n",
              "<style scoped>\n",
              "    .dataframe tbody tr th:only-of-type {\n",
              "        vertical-align: middle;\n",
              "    }\n",
              "\n",
              "    .dataframe tbody tr th {\n",
              "        vertical-align: top;\n",
              "    }\n",
              "\n",
              "    .dataframe thead th {\n",
              "        text-align: right;\n",
              "    }\n",
              "</style>\n",
              "<table border=\"1\" class=\"dataframe\">\n",
              "  <thead>\n",
              "    <tr style=\"text-align: right;\">\n",
              "      <th></th>\n",
              "      <th>location</th>\n",
              "      <th>location_category</th>\n",
              "      <th>location_lat</th>\n",
              "      <th>location_lng</th>\n",
              "      <th>name</th>\n",
              "      <th>categories</th>\n",
              "      <th>lat</th>\n",
              "      <th>lng</th>\n",
              "    </tr>\n",
              "  </thead>\n",
              "  <tbody>\n",
              "    <tr>\n",
              "      <th>0</th>\n",
              "      <td>RTO</td>\n",
              "      <td>Government Building</td>\n",
              "      <td>12.861331</td>\n",
              "      <td>74.839396</td>\n",
              "      <td>New Danish Arabian Treat</td>\n",
              "      <td>Middle Eastern Restaurant</td>\n",
              "      <td>12.860274</td>\n",
              "      <td>74.838933</td>\n",
              "    </tr>\n",
              "    <tr>\n",
              "      <th>1</th>\n",
              "      <td>Mangalore City Corporation</td>\n",
              "      <td>Government Building</td>\n",
              "      <td>12.884741</td>\n",
              "      <td>74.839219</td>\n",
              "      <td>Chicken Tikka Halal</td>\n",
              "      <td>Middle Eastern Restaurant</td>\n",
              "      <td>12.885498</td>\n",
              "      <td>74.839540</td>\n",
              "    </tr>\n",
              "    <tr>\n",
              "      <th>2</th>\n",
              "      <td>Mangalore City Corporation</td>\n",
              "      <td>Government Building</td>\n",
              "      <td>12.884741</td>\n",
              "      <td>74.839219</td>\n",
              "      <td>Mathura Vegetarian</td>\n",
              "      <td>Vegetarian / Vegan Restaurant</td>\n",
              "      <td>12.885307</td>\n",
              "      <td>74.840130</td>\n",
              "    </tr>\n",
              "    <tr>\n",
              "      <th>3</th>\n",
              "      <td>Mangalore City Corporation</td>\n",
              "      <td>Government Building</td>\n",
              "      <td>12.884741</td>\n",
              "      <td>74.839219</td>\n",
              "      <td>Hotel annaapoorna</td>\n",
              "      <td>Indian Restaurant</td>\n",
              "      <td>12.885206</td>\n",
              "      <td>74.838214</td>\n",
              "    </tr>\n",
              "    <tr>\n",
              "      <th>4</th>\n",
              "      <td>D C Office</td>\n",
              "      <td>Government Building</td>\n",
              "      <td>12.861403</td>\n",
              "      <td>74.836295</td>\n",
              "      <td>Cardamom</td>\n",
              "      <td>Indian Restaurant</td>\n",
              "      <td>12.861908</td>\n",
              "      <td>74.835169</td>\n",
              "    </tr>\n",
              "    <tr>\n",
              "      <th>5</th>\n",
              "      <td>D C Office</td>\n",
              "      <td>Government Building</td>\n",
              "      <td>12.861403</td>\n",
              "      <td>74.836295</td>\n",
              "      <td>Hotel Swagath</td>\n",
              "      <td>Udupi Restaurant</td>\n",
              "      <td>12.861357</td>\n",
              "      <td>74.836930</td>\n",
              "    </tr>\n",
              "    <tr>\n",
              "      <th>6</th>\n",
              "      <td>Tara Hospital</td>\n",
              "      <td>Hospital</td>\n",
              "      <td>12.869495</td>\n",
              "      <td>74.840137</td>\n",
              "      <td>Punjab Da Pind</td>\n",
              "      <td>Punjabi Restaurant</td>\n",
              "      <td>12.870084</td>\n",
              "      <td>74.841372</td>\n",
              "    </tr>\n",
              "    <tr>\n",
              "      <th>7</th>\n",
              "      <td>Tara Hospital</td>\n",
              "      <td>Hospital</td>\n",
              "      <td>12.869495</td>\n",
              "      <td>74.840137</td>\n",
              "      <td>Hotel Maya Darshini</td>\n",
              "      <td>South Indian Restaurant</td>\n",
              "      <td>12.868126</td>\n",
              "      <td>74.840420</td>\n",
              "    </tr>\n",
              "    <tr>\n",
              "      <th>8</th>\n",
              "      <td>Tara Hospital</td>\n",
              "      <td>Hospital</td>\n",
              "      <td>12.869495</td>\n",
              "      <td>74.840137</td>\n",
              "      <td>Fish bowl</td>\n",
              "      <td>Seafood Restaurant</td>\n",
              "      <td>12.870882</td>\n",
              "      <td>74.841335</td>\n",
              "    </tr>\n",
              "    <tr>\n",
              "      <th>9</th>\n",
              "      <td>Wenlock Government Hospital</td>\n",
              "      <td>Hospital</td>\n",
              "      <td>12.867602</td>\n",
              "      <td>74.843103</td>\n",
              "      <td>Taj Mahal Veg Restaurant</td>\n",
              "      <td>Vegetarian / Vegan Restaurant</td>\n",
              "      <td>12.868113</td>\n",
              "      <td>74.842896</td>\n",
              "    </tr>\n",
              "    <tr>\n",
              "      <th>10</th>\n",
              "      <td>Wenlock Government Hospital</td>\n",
              "      <td>Hospital</td>\n",
              "      <td>12.867602</td>\n",
              "      <td>74.843103</td>\n",
              "      <td>Diet N Protein Meals</td>\n",
              "      <td>Restaurant</td>\n",
              "      <td>12.869382</td>\n",
              "      <td>74.843450</td>\n",
              "    </tr>\n",
              "    <tr>\n",
              "      <th>11</th>\n",
              "      <td>Wenlock Government Hospital</td>\n",
              "      <td>Hospital</td>\n",
              "      <td>12.867602</td>\n",
              "      <td>74.843103</td>\n",
              "      <td>Hotel Salwa</td>\n",
              "      <td>Restaurant</td>\n",
              "      <td>12.869074</td>\n",
              "      <td>74.842652</td>\n",
              "    </tr>\n",
              "    <tr>\n",
              "      <th>12</th>\n",
              "      <td>KMC Ambedkar Hospital</td>\n",
              "      <td>Hospital</td>\n",
              "      <td>12.872169</td>\n",
              "      <td>74.848706</td>\n",
              "      <td>Sana-di-ge</td>\n",
              "      <td>South Indian Restaurant</td>\n",
              "      <td>12.874285</td>\n",
              "      <td>74.849011</td>\n",
              "    </tr>\n",
              "    <tr>\n",
              "      <th>13</th>\n",
              "      <td>KMC Ambedkar Hospital</td>\n",
              "      <td>Hospital</td>\n",
              "      <td>12.872169</td>\n",
              "      <td>74.848706</td>\n",
              "      <td>Kudla Veg. Restaurant</td>\n",
              "      <td>Vegetarian / Vegan Restaurant</td>\n",
              "      <td>12.872689</td>\n",
              "      <td>74.849506</td>\n",
              "    </tr>\n",
              "    <tr>\n",
              "      <th>14</th>\n",
              "      <td>KMC Hospital Life's On</td>\n",
              "      <td>Hospital</td>\n",
              "      <td>12.872002</td>\n",
              "      <td>74.848127</td>\n",
              "      <td>Hotel Kudla</td>\n",
              "      <td>Indian Restaurant</td>\n",
              "      <td>12.872732</td>\n",
              "      <td>74.849481</td>\n",
              "    </tr>\n",
              "    <tr>\n",
              "      <th>15</th>\n",
              "      <td>KMC Hospital Life's On</td>\n",
              "      <td>Hospital</td>\n",
              "      <td>12.872002</td>\n",
              "      <td>74.848127</td>\n",
              "      <td>Kudla Veg. Restaurant</td>\n",
              "      <td>Vegetarian / Vegan Restaurant</td>\n",
              "      <td>12.872689</td>\n",
              "      <td>74.849506</td>\n",
              "    </tr>\n",
              "    <tr>\n",
              "      <th>16</th>\n",
              "      <td>St Aloysius PU College</td>\n",
              "      <td>College</td>\n",
              "      <td>12.873166</td>\n",
              "      <td>74.844708</td>\n",
              "      <td>spice of Andhra</td>\n",
              "      <td>Indian Restaurant</td>\n",
              "      <td>12.871033</td>\n",
              "      <td>74.845399</td>\n",
              "    </tr>\n",
              "    <tr>\n",
              "      <th>17</th>\n",
              "      <td>St Aloysius PU College</td>\n",
              "      <td>College</td>\n",
              "      <td>12.873166</td>\n",
              "      <td>74.844708</td>\n",
              "      <td>five star chicken</td>\n",
              "      <td>Asian Restaurant</td>\n",
              "      <td>12.872201</td>\n",
              "      <td>74.844856</td>\n",
              "    </tr>\n",
              "    <tr>\n",
              "      <th>18</th>\n",
              "      <td>St Aloysius PU College</td>\n",
              "      <td>College</td>\n",
              "      <td>12.873166</td>\n",
              "      <td>74.844708</td>\n",
              "      <td>Goodies Arabian Taste</td>\n",
              "      <td>Middle Eastern Restaurant</td>\n",
              "      <td>12.871059</td>\n",
              "      <td>74.844308</td>\n",
              "    </tr>\n",
              "    <tr>\n",
              "      <th>19</th>\n",
              "      <td>SDM Law College, Mangalore</td>\n",
              "      <td>College</td>\n",
              "      <td>12.878730</td>\n",
              "      <td>74.841349</td>\n",
              "      <td>Aroma Restaurant</td>\n",
              "      <td>Indian Restaurant</td>\n",
              "      <td>12.878075</td>\n",
              "      <td>74.842066</td>\n",
              "    </tr>\n",
              "    <tr>\n",
              "      <th>20</th>\n",
              "      <td>Canara College</td>\n",
              "      <td>College</td>\n",
              "      <td>12.879053</td>\n",
              "      <td>74.842549</td>\n",
              "      <td>Aroma Restaurant</td>\n",
              "      <td>Indian Restaurant</td>\n",
              "      <td>12.878075</td>\n",
              "      <td>74.842066</td>\n",
              "    </tr>\n",
              "    <tr>\n",
              "      <th>21</th>\n",
              "      <td>University College Mangalore</td>\n",
              "      <td>College</td>\n",
              "      <td>12.865785</td>\n",
              "      <td>74.840139</td>\n",
              "      <td>Sri Krishna Bhelpuri House</td>\n",
              "      <td>Fast Food Restaurant</td>\n",
              "      <td>12.866210</td>\n",
              "      <td>74.838355</td>\n",
              "    </tr>\n",
              "    <tr>\n",
              "      <th>22</th>\n",
              "      <td>University College Mangalore</td>\n",
              "      <td>College</td>\n",
              "      <td>12.865785</td>\n",
              "      <td>74.840139</td>\n",
              "      <td>Maya Lunch Home</td>\n",
              "      <td>Seafood Restaurant</td>\n",
              "      <td>12.867495</td>\n",
              "      <td>74.840608</td>\n",
              "    </tr>\n",
              "    <tr>\n",
              "      <th>23</th>\n",
              "      <td>University College Mangalore</td>\n",
              "      <td>College</td>\n",
              "      <td>12.865785</td>\n",
              "      <td>74.840139</td>\n",
              "      <td>Grand Rasoi</td>\n",
              "      <td>Restaurant</td>\n",
              "      <td>12.866336</td>\n",
              "      <td>74.840687</td>\n",
              "    </tr>\n",
              "    <tr>\n",
              "      <th>24</th>\n",
              "      <td>University College Mangalore</td>\n",
              "      <td>College</td>\n",
              "      <td>12.865785</td>\n",
              "      <td>74.840139</td>\n",
              "      <td>Seethanna's</td>\n",
              "      <td>Fast Food Restaurant</td>\n",
              "      <td>12.866469</td>\n",
              "      <td>74.840807</td>\n",
              "    </tr>\n",
              "    <tr>\n",
              "      <th>25</th>\n",
              "      <td>University College Mangalore</td>\n",
              "      <td>College</td>\n",
              "      <td>12.865785</td>\n",
              "      <td>74.840139</td>\n",
              "      <td>hotel saffron mangalore</td>\n",
              "      <td>Vegetarian / Vegan Restaurant</td>\n",
              "      <td>12.867254</td>\n",
              "      <td>74.840103</td>\n",
              "    </tr>\n",
              "    <tr>\n",
              "      <th>26</th>\n",
              "      <td>Nalanda School</td>\n",
              "      <td>High School</td>\n",
              "      <td>12.873374</td>\n",
              "      <td>74.840744</td>\n",
              "      <td>Sagar Ratna</td>\n",
              "      <td>Vegetarian / Vegan Restaurant</td>\n",
              "      <td>12.875048</td>\n",
              "      <td>74.840466</td>\n",
              "    </tr>\n",
              "    <tr>\n",
              "      <th>27</th>\n",
              "      <td>Nalanda School</td>\n",
              "      <td>High School</td>\n",
              "      <td>12.873374</td>\n",
              "      <td>74.840744</td>\n",
              "      <td>Hotel Janatha Deluxe</td>\n",
              "      <td>Indian Restaurant</td>\n",
              "      <td>12.872483</td>\n",
              "      <td>74.842082</td>\n",
              "    </tr>\n",
              "    <tr>\n",
              "      <th>28</th>\n",
              "      <td>Milagres School</td>\n",
              "      <td>High School</td>\n",
              "      <td>12.867199</td>\n",
              "      <td>74.843828</td>\n",
              "      <td>Taj Mahal Veg Restaurant</td>\n",
              "      <td>Vegetarian / Vegan Restaurant</td>\n",
              "      <td>12.868113</td>\n",
              "      <td>74.842896</td>\n",
              "    </tr>\n",
              "    <tr>\n",
              "      <th>29</th>\n",
              "      <td>Milagres School</td>\n",
              "      <td>High School</td>\n",
              "      <td>12.867199</td>\n",
              "      <td>74.843828</td>\n",
              "      <td>Hotel Ruchi</td>\n",
              "      <td>Indian Restaurant</td>\n",
              "      <td>12.865249</td>\n",
              "      <td>74.844448</td>\n",
              "    </tr>\n",
              "    <tr>\n",
              "      <th>30</th>\n",
              "      <td>Canara Girls High School</td>\n",
              "      <td>High School</td>\n",
              "      <td>12.877045</td>\n",
              "      <td>74.842680</td>\n",
              "      <td>Aroma Restaurant</td>\n",
              "      <td>Indian Restaurant</td>\n",
              "      <td>12.878075</td>\n",
              "      <td>74.842066</td>\n",
              "    </tr>\n",
              "    <tr>\n",
              "      <th>31</th>\n",
              "      <td>Canara Girls High School</td>\n",
              "      <td>High School</td>\n",
              "      <td>12.877045</td>\n",
              "      <td>74.842680</td>\n",
              "      <td>Hotel Ayodhya</td>\n",
              "      <td>Udupi Restaurant</td>\n",
              "      <td>12.875659</td>\n",
              "      <td>74.841367</td>\n",
              "    </tr>\n",
              "    <tr>\n",
              "      <th>32</th>\n",
              "      <td>Government High School</td>\n",
              "      <td>High School</td>\n",
              "      <td>12.870202</td>\n",
              "      <td>74.834983</td>\n",
              "      <td>Usha Kiran Veg Restaurant</td>\n",
              "      <td>Vegetarian / Vegan Restaurant</td>\n",
              "      <td>12.870602</td>\n",
              "      <td>74.835162</td>\n",
              "    </tr>\n",
              "    <tr>\n",
              "      <th>33</th>\n",
              "      <td>Government High School</td>\n",
              "      <td>High School</td>\n",
              "      <td>12.870202</td>\n",
              "      <td>74.834983</td>\n",
              "      <td>Kusum Food Products</td>\n",
              "      <td>Comfort Food Restaurant</td>\n",
              "      <td>12.870307</td>\n",
              "      <td>74.834600</td>\n",
              "    </tr>\n",
              "    <tr>\n",
              "      <th>34</th>\n",
              "      <td>St. Aloysius High School</td>\n",
              "      <td>High School</td>\n",
              "      <td>12.873727</td>\n",
              "      <td>74.845050</td>\n",
              "      <td>five star chicken</td>\n",
              "      <td>Asian Restaurant</td>\n",
              "      <td>12.872201</td>\n",
              "      <td>74.844856</td>\n",
              "    </tr>\n",
              "    <tr>\n",
              "      <th>35</th>\n",
              "      <td>shakthi creations</td>\n",
              "      <td>Factory</td>\n",
              "      <td>12.869485</td>\n",
              "      <td>74.838037</td>\n",
              "      <td>Sun Moon Cafe</td>\n",
              "      <td>Fast Food Restaurant</td>\n",
              "      <td>12.869961</td>\n",
              "      <td>74.837840</td>\n",
              "    </tr>\n",
              "    <tr>\n",
              "      <th>36</th>\n",
              "      <td>Rudra Industries</td>\n",
              "      <td>Factory</td>\n",
              "      <td>12.877755</td>\n",
              "      <td>74.846977</td>\n",
              "      <td>Shankara Bhavana</td>\n",
              "      <td>Vegetarian / Vegan Restaurant</td>\n",
              "      <td>12.875900</td>\n",
              "      <td>74.846504</td>\n",
              "    </tr>\n",
              "    <tr>\n",
              "      <th>37</th>\n",
              "      <td>Rudra Industries</td>\n",
              "      <td>Factory</td>\n",
              "      <td>12.877755</td>\n",
              "      <td>74.846977</td>\n",
              "      <td>Anupama Restaurant</td>\n",
              "      <td>Indian Restaurant</td>\n",
              "      <td>12.876710</td>\n",
              "      <td>74.848649</td>\n",
              "    </tr>\n",
              "    <tr>\n",
              "      <th>38</th>\n",
              "      <td>Rudra Industries</td>\n",
              "      <td>Factory</td>\n",
              "      <td>12.877755</td>\n",
              "      <td>74.846977</td>\n",
              "      <td>Shree Devi Nursing Home Canteen</td>\n",
              "      <td>Restaurant</td>\n",
              "      <td>12.877859</td>\n",
              "      <td>74.845800</td>\n",
              "    </tr>\n",
              "    <tr>\n",
              "      <th>39</th>\n",
              "      <td>Rudra Industries</td>\n",
              "      <td>Factory</td>\n",
              "      <td>12.877755</td>\n",
              "      <td>74.846977</td>\n",
              "      <td>Kodvai Fish Meals</td>\n",
              "      <td>Indian Restaurant</td>\n",
              "      <td>12.876466</td>\n",
              "      <td>74.846661</td>\n",
              "    </tr>\n",
              "    <tr>\n",
              "      <th>40</th>\n",
              "      <td>Sarasija Foods (NARAN'S)</td>\n",
              "      <td>Factory</td>\n",
              "      <td>12.896301</td>\n",
              "      <td>74.861040</td>\n",
              "      <td>Hotel Vardhaman</td>\n",
              "      <td>Vegetarian / Vegan Restaurant</td>\n",
              "      <td>12.896339</td>\n",
              "      <td>74.859433</td>\n",
              "    </tr>\n",
              "    <tr>\n",
              "      <th>41</th>\n",
              "      <td>Sovereign Tile Works</td>\n",
              "      <td>Factory</td>\n",
              "      <td>12.880381</td>\n",
              "      <td>74.827174</td>\n",
              "      <td>Nandini Fish Bowl</td>\n",
              "      <td>Seafood Restaurant</td>\n",
              "      <td>12.880533</td>\n",
              "      <td>74.827170</td>\n",
              "    </tr>\n",
              "  </tbody>\n",
              "</table>\n",
              "</div>"
            ],
            "text/plain": [
              "                        location    location_category  ...        lat        lng\n",
              "0                            RTO  Government Building  ...  12.860274  74.838933\n",
              "1     Mangalore City Corporation  Government Building  ...  12.885498  74.839540\n",
              "2     Mangalore City Corporation  Government Building  ...  12.885307  74.840130\n",
              "3     Mangalore City Corporation  Government Building  ...  12.885206  74.838214\n",
              "4                     D C Office  Government Building  ...  12.861908  74.835169\n",
              "5                     D C Office  Government Building  ...  12.861357  74.836930\n",
              "6                  Tara Hospital             Hospital  ...  12.870084  74.841372\n",
              "7                  Tara Hospital             Hospital  ...  12.868126  74.840420\n",
              "8                  Tara Hospital             Hospital  ...  12.870882  74.841335\n",
              "9    Wenlock Government Hospital             Hospital  ...  12.868113  74.842896\n",
              "10   Wenlock Government Hospital             Hospital  ...  12.869382  74.843450\n",
              "11   Wenlock Government Hospital             Hospital  ...  12.869074  74.842652\n",
              "12         KMC Ambedkar Hospital             Hospital  ...  12.874285  74.849011\n",
              "13         KMC Ambedkar Hospital             Hospital  ...  12.872689  74.849506\n",
              "14        KMC Hospital Life's On             Hospital  ...  12.872732  74.849481\n",
              "15        KMC Hospital Life's On             Hospital  ...  12.872689  74.849506\n",
              "16        St Aloysius PU College              College  ...  12.871033  74.845399\n",
              "17        St Aloysius PU College              College  ...  12.872201  74.844856\n",
              "18        St Aloysius PU College              College  ...  12.871059  74.844308\n",
              "19    SDM Law College, Mangalore              College  ...  12.878075  74.842066\n",
              "20                Canara College              College  ...  12.878075  74.842066\n",
              "21  University College Mangalore              College  ...  12.866210  74.838355\n",
              "22  University College Mangalore              College  ...  12.867495  74.840608\n",
              "23  University College Mangalore              College  ...  12.866336  74.840687\n",
              "24  University College Mangalore              College  ...  12.866469  74.840807\n",
              "25  University College Mangalore              College  ...  12.867254  74.840103\n",
              "26                Nalanda School          High School  ...  12.875048  74.840466\n",
              "27                Nalanda School          High School  ...  12.872483  74.842082\n",
              "28               Milagres School          High School  ...  12.868113  74.842896\n",
              "29               Milagres School          High School  ...  12.865249  74.844448\n",
              "30      Canara Girls High School          High School  ...  12.878075  74.842066\n",
              "31      Canara Girls High School          High School  ...  12.875659  74.841367\n",
              "32        Government High School          High School  ...  12.870602  74.835162\n",
              "33        Government High School          High School  ...  12.870307  74.834600\n",
              "34      St. Aloysius High School          High School  ...  12.872201  74.844856\n",
              "35             shakthi creations              Factory  ...  12.869961  74.837840\n",
              "36              Rudra Industries              Factory  ...  12.875900  74.846504\n",
              "37              Rudra Industries              Factory  ...  12.876710  74.848649\n",
              "38              Rudra Industries              Factory  ...  12.877859  74.845800\n",
              "39              Rudra Industries              Factory  ...  12.876466  74.846661\n",
              "40      Sarasija Foods (NARAN'S)              Factory  ...  12.896339  74.859433\n",
              "41          Sovereign Tile Works              Factory  ...  12.880533  74.827170\n",
              "\n",
              "[42 rows x 8 columns]"
            ]
          },
          "metadata": {
            "tags": []
          },
          "execution_count": 110
        }
      ]
    },
    {
      "cell_type": "markdown",
      "metadata": {
        "id": "RQospyesXWw8",
        "colab_type": "text"
      },
      "source": [
        "If you check the printed log above the dataframe, we can clear see that\n",
        "\"NO Restaurants found near __Mahesh P.U. College__\" is printed."
      ]
    },
    {
      "cell_type": "markdown",
      "metadata": {
        "id": "9WUnjFlVZ58X",
        "colab_type": "text"
      },
      "source": [
        "## 4. Analysis"
      ]
    },
    {
      "cell_type": "markdown",
      "metadata": {
        "id": "AKD1YuaSU_ZI",
        "colab_type": "text"
      },
      "source": [
        "Let's perform some basic exploratory data analysis and derive some additional info from our raw data. Lets plot all the nearby restaurants on the map which was already rendered to display the top spots\n",
        "\n",
        "1. Top locations are displayed in Orange circle\n",
        "2. Nearby restaurants are displayed in Blue color"
      ]
    },
    {
      "cell_type": "code",
      "metadata": {
        "id": "stAb0VQCU-eq",
        "colab_type": "code",
        "outputId": "b13f7eff-cb79-4ecb-80d7-c5747c9cfa0a",
        "colab": {
          "base_uri": "https://localhost:8080/",
          "height": 669
        }
      },
      "source": [
        "df = restaurants_combined\n",
        "\n",
        "# add markers to map to display the nearby restaurants for each top sport in blue color\n",
        "for lat, lng, category, name in zip(df['lat'], df['lng'], df['categories'], df['name']):\n",
        "    label = '{}, {}'.format(name, category)\n",
        "    label = folium.Popup(label, parse_html=True)\n",
        "    folium.CircleMarker(\n",
        "        [lat, lng],\n",
        "        radius=7,\n",
        "        popup=label,\n",
        "        color='blue',\n",
        "        fill=True,\n",
        "        fill_color='#3186cc',\n",
        "        fill_opacity=0.7).add_to(map_mangalore) \n",
        "    \n",
        "    \n",
        "map_mangalore"
      ],
      "execution_count": 0,
      "outputs": [
        {
          "output_type": "execute_result",
          "data": {
            "text/html": [
              "<div style=\"width:100%;\"><div style=\"position:relative;width:100%;height:0;padding-bottom:60%;\"><iframe src=\"about:blank\" style=\"position:absolute;width:100%;height:100%;left:0;top:0;border:none !important;\" data-html=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 onload=\"this.contentDocument.open();this.contentDocument.write(atob(this.getAttribute('data-html')));this.contentDocument.close();\" allowfullscreen webkitallowfullscreen mozallowfullscreen></iframe></div></div>"
            ],
            "text/plain": [
              "<folium.folium.Map at 0x7f17e076a9e8>"
            ]
          },
          "metadata": {
            "tags": []
          },
          "execution_count": 36
        }
      ]
    },
    {
      "cell_type": "markdown",
      "metadata": {
        "id": "wgSYxjxaM9rf",
        "colab_type": "text"
      },
      "source": [
        "Lets group the restaurants based on location name, note that __Mahesh P.U. College__ is not present in the dataframe since we didn't find any nearvy restaurants within 200m radius"
      ]
    },
    {
      "cell_type": "code",
      "metadata": {
        "id": "0HuaDH77UZxj",
        "colab_type": "code",
        "outputId": "29ad3ac9-218f-4672-9d37-31e5b2ced088",
        "colab": {
          "base_uri": "https://localhost:8080/",
          "height": 34
        }
      },
      "source": [
        "restaurants_combined = restaurants_combined.groupby('location').size().reset_index(drop=False)\n",
        "restaurants_combined.rename(columns={0: \"count\"}, inplace=True)\n",
        "restaurants_combined.sort_values('count', inplace=True)\n",
        "type(restaurants_combined)"
      ],
      "execution_count": 0,
      "outputs": [
        {
          "output_type": "execute_result",
          "data": {
            "text/plain": [
              "pandas.core.frame.DataFrame"
            ]
          },
          "metadata": {
            "tags": []
          },
          "execution_count": 111
        }
      ]
    },
    {
      "cell_type": "markdown",
      "metadata": {
        "id": "BuUvr-Ppmyv-",
        "colab_type": "text"
      },
      "source": [
        "Lets just reset the index and display the final result"
      ]
    },
    {
      "cell_type": "code",
      "metadata": {
        "id": "ct7WEKQpfRXY",
        "colab_type": "code",
        "outputId": "cedf7338-d064-4f27-d326-54ffdc1d423d",
        "colab": {
          "base_uri": "https://localhost:8080/",
          "height": 669
        }
      },
      "source": [
        "restaurants_combined.reset_index(drop=True)"
      ],
      "execution_count": 0,
      "outputs": [
        {
          "output_type": "execute_result",
          "data": {
            "text/html": [
              "<div>\n",
              "<style scoped>\n",
              "    .dataframe tbody tr th:only-of-type {\n",
              "        vertical-align: middle;\n",
              "    }\n",
              "\n",
              "    .dataframe tbody tr th {\n",
              "        vertical-align: top;\n",
              "    }\n",
              "\n",
              "    .dataframe thead th {\n",
              "        text-align: right;\n",
              "    }\n",
              "</style>\n",
              "<table border=\"1\" class=\"dataframe\">\n",
              "  <thead>\n",
              "    <tr style=\"text-align: right;\">\n",
              "      <th></th>\n",
              "      <th>location</th>\n",
              "      <th>count</th>\n",
              "    </tr>\n",
              "  </thead>\n",
              "  <tbody>\n",
              "    <tr>\n",
              "      <th>0</th>\n",
              "      <td>Canara College</td>\n",
              "      <td>1</td>\n",
              "    </tr>\n",
              "    <tr>\n",
              "      <th>1</th>\n",
              "      <td>St. Aloysius High School</td>\n",
              "      <td>1</td>\n",
              "    </tr>\n",
              "    <tr>\n",
              "      <th>2</th>\n",
              "      <td>Sovereign Tile Works</td>\n",
              "      <td>1</td>\n",
              "    </tr>\n",
              "    <tr>\n",
              "      <th>3</th>\n",
              "      <td>Sarasija Foods (NARAN'S)</td>\n",
              "      <td>1</td>\n",
              "    </tr>\n",
              "    <tr>\n",
              "      <th>4</th>\n",
              "      <td>SDM Law College, Mangalore</td>\n",
              "      <td>1</td>\n",
              "    </tr>\n",
              "    <tr>\n",
              "      <th>5</th>\n",
              "      <td>RTO</td>\n",
              "      <td>1</td>\n",
              "    </tr>\n",
              "    <tr>\n",
              "      <th>6</th>\n",
              "      <td>shakthi creations</td>\n",
              "      <td>1</td>\n",
              "    </tr>\n",
              "    <tr>\n",
              "      <th>7</th>\n",
              "      <td>Milagres School</td>\n",
              "      <td>2</td>\n",
              "    </tr>\n",
              "    <tr>\n",
              "      <th>8</th>\n",
              "      <td>Nalanda School</td>\n",
              "      <td>2</td>\n",
              "    </tr>\n",
              "    <tr>\n",
              "      <th>9</th>\n",
              "      <td>KMC Ambedkar Hospital</td>\n",
              "      <td>2</td>\n",
              "    </tr>\n",
              "    <tr>\n",
              "      <th>10</th>\n",
              "      <td>Government High School</td>\n",
              "      <td>2</td>\n",
              "    </tr>\n",
              "    <tr>\n",
              "      <th>11</th>\n",
              "      <td>D C Office</td>\n",
              "      <td>2</td>\n",
              "    </tr>\n",
              "    <tr>\n",
              "      <th>12</th>\n",
              "      <td>Canara Girls High School</td>\n",
              "      <td>2</td>\n",
              "    </tr>\n",
              "    <tr>\n",
              "      <th>13</th>\n",
              "      <td>KMC Hospital Life's On</td>\n",
              "      <td>2</td>\n",
              "    </tr>\n",
              "    <tr>\n",
              "      <th>14</th>\n",
              "      <td>Mangalore City Corporation</td>\n",
              "      <td>3</td>\n",
              "    </tr>\n",
              "    <tr>\n",
              "      <th>15</th>\n",
              "      <td>Wenlock Government Hospital</td>\n",
              "      <td>3</td>\n",
              "    </tr>\n",
              "    <tr>\n",
              "      <th>16</th>\n",
              "      <td>St Aloysius PU College</td>\n",
              "      <td>3</td>\n",
              "    </tr>\n",
              "    <tr>\n",
              "      <th>17</th>\n",
              "      <td>Tara Hospital</td>\n",
              "      <td>3</td>\n",
              "    </tr>\n",
              "    <tr>\n",
              "      <th>18</th>\n",
              "      <td>Rudra Industries</td>\n",
              "      <td>4</td>\n",
              "    </tr>\n",
              "    <tr>\n",
              "      <th>19</th>\n",
              "      <td>University College Mangalore</td>\n",
              "      <td>5</td>\n",
              "    </tr>\n",
              "  </tbody>\n",
              "</table>\n",
              "</div>"
            ],
            "text/plain": [
              "                        location  count\n",
              "0                 Canara College      1\n",
              "1       St. Aloysius High School      1\n",
              "2           Sovereign Tile Works      1\n",
              "3       Sarasija Foods (NARAN'S)      1\n",
              "4     SDM Law College, Mangalore      1\n",
              "5                            RTO      1\n",
              "6              shakthi creations      1\n",
              "7                Milagres School      2\n",
              "8                 Nalanda School      2\n",
              "9          KMC Ambedkar Hospital      2\n",
              "10        Government High School      2\n",
              "11                    D C Office      2\n",
              "12      Canara Girls High School      2\n",
              "13        KMC Hospital Life's On      2\n",
              "14    Mangalore City Corporation      3\n",
              "15   Wenlock Government Hospital      3\n",
              "16        St Aloysius PU College      3\n",
              "17                 Tara Hospital      3\n",
              "18              Rudra Industries      4\n",
              "19  University College Mangalore      5"
            ]
          },
          "metadata": {
            "tags": []
          },
          "execution_count": 116
        }
      ]
    },
    {
      "cell_type": "markdown",
      "metadata": {
        "id": "76OASmaMn_Jj",
        "colab_type": "text"
      },
      "source": [
        "From the above result its clear that within 200m of walkable distance:\n",
        "\n",
        "1. There are __7 locations__ which has __One nearby restaurant__ \n",
        "2. There are __7 locations__ which has __Two nearby restaurant__ \n",
        "3. There are __4 locations__ which has __Three nearby restaurant__\n",
        "4. There is __1 location__ which has __Four nearby restaurant__\n",
        "5. There is __1 location__ which has __Five nearby restaurant__\n",
        "\n",
        "Note that, we still __one location without any nearyby restaurants__, location name is __Mahesh P.U. College__"
      ]
    },
    {
      "cell_type": "markdown",
      "metadata": {
        "id": "hDDEx77hPpBF",
        "colab_type": "text"
      },
      "source": [
        "## 5. Result and Discussion"
      ]
    },
    {
      "cell_type": "markdown",
      "metadata": {
        "id": "FDMDKuSVPtG_",
        "colab_type": "text"
      },
      "source": [
        "Our overall data analysis shows that Mangalore has many restaurants near crowded places. To identify the optimal location, we first identified the locations for Colleges, Hospitals, Factories, Schools and Government Building category within the 5 KM range from Mangalore center point. We wanted to get the optimal location within 5KM city radius. Then filtered these data to get top 5 locations for each category.\n",
        "\n",
        "We could have opted for 10 locations for each category. But with 10 locations for each category, we may be moving away from the city center point. To be near to the city center point, i preferred to select the top 5 locations. \n",
        "\n",
        "Once we got top 5 locations for each category, we got the nearby existing restaurants for each of these locations using the Foursquare API, which are within 200m of distance from location. \n",
        "\n",
        "The reason for considering 200m as the radius limit is, we wanted to look for a restaurant within walkable distance. We could have gone with 500m, but many don't prefer 500m as the walkable distance. For 500m, they prefer either two wheeler or four wheeler. Hence 200meter is a decent walkable distance.\n",
        "\n",
        "Finally merged all the data and plotted these info on the map, with Orange color for category locations and Blue color for Restaurants.\n",
        "\n",
        "Then prepared a table to list out the location name and nearby restaurants. We got one location without any nearby restaurant and 7 locations each with one and two nearby restaurants.\n",
        "\n",
        "__Recommendations:__\n",
        "Based on the obtained result, i would recommend following locations:\n",
        "1. For __Mahesh P.U. College__ location, we didn't find any nearby restaurants within 200m. This location is my first recommendation.\n",
        "2. There are __7 such locations__, for which we have only __1 nearby__ restaurants. They are: __Canara College, St. Aloysius High School, Sovereign Tile Works, Sarasija Foods (NARAN'S), SDM Law College, Mangalore and RTO, Shakthi creations.__. Interested stakeholder can look into any of these locations.\n"
      ]
    },
    {
      "cell_type": "markdown",
      "metadata": {
        "id": "cPQLipWh0Hv5",
        "colab_type": "text"
      },
      "source": [
        "## 6. Conslusion"
      ]
    },
    {
      "cell_type": "markdown",
      "metadata": {
        "id": "oRIr7Uwh0MqQ",
        "colab_type": "text"
      },
      "source": [
        "Purpose of this project is to identify the optimal location for opening a new restaurant within 5KM range of Mangalore city. This would help the stakeholders in narrowing down the search for location. Initially, I identified the top 5 locations for different categories. These categories normally attract crowds. Hence scope for opening a restaurant near such location is more. Then we identified the nearby restaurants for such locations. \n",
        "\n",
        "My finding and recommendations are already discussed in the _Result and Discussion_ section. Please check the recommendations. Selecting the optimal location is left to the stakeholder based on the other dependent factor such as rent, water availabilility, parking slots, connectivity etc. It is upto the stakeholder who has to pick one of the recommended locations.\n",
        "\n",
        "\n"
      ]
    },
    {
      "cell_type": "code",
      "metadata": {
        "id": "V85_adx-ZO1h",
        "colab_type": "code",
        "colab": {}
      },
      "source": [
        ""
      ],
      "execution_count": 0,
      "outputs": []
    }
  ]
}